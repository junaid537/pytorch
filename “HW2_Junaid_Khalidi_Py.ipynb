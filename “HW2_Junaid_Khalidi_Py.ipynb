{
  "cells": [
    {
      "cell_type": "markdown",
      "metadata": {
        "id": "view-in-github",
        "colab_type": "text"
      },
      "source": [
        "<a href=\"https://colab.research.google.com/github/junaid537/pytorch/blob/main/%E2%80%9CHW2_Junaid_Khalidi_Py.ipynb\" target=\"_parent\"><img src=\"https://colab.research.google.com/assets/colab-badge.svg\" alt=\"Open In Colab\"/></a>"
      ]
    },
    {
      "cell_type": "code",
      "source": [
        "pip install --upgrade --force-reinstall nltk\n"
      ],
      "metadata": {
        "colab": {
          "base_uri": "https://localhost:8080/"
        },
        "id": "nXvTgKu4i9aV",
        "outputId": "62d39742-7f42-4bcd-ea48-f03b29989820"
      },
      "execution_count": 1,
      "outputs": [
        {
          "output_type": "stream",
          "name": "stdout",
          "text": [
            "Collecting nltk\n",
            "  Using cached nltk-3.9.1-py3-none-any.whl.metadata (2.9 kB)\n",
            "Collecting click (from nltk)\n",
            "  Using cached click-8.1.8-py3-none-any.whl.metadata (2.3 kB)\n",
            "Collecting joblib (from nltk)\n",
            "  Using cached joblib-1.4.2-py3-none-any.whl.metadata (5.4 kB)\n",
            "Collecting regex>=2021.8.3 (from nltk)\n",
            "  Using cached regex-2024.11.6-cp311-cp311-manylinux_2_17_x86_64.manylinux2014_x86_64.whl.metadata (40 kB)\n",
            "Collecting tqdm (from nltk)\n",
            "  Using cached tqdm-4.67.1-py3-none-any.whl.metadata (57 kB)\n",
            "Using cached nltk-3.9.1-py3-none-any.whl (1.5 MB)\n",
            "Using cached regex-2024.11.6-cp311-cp311-manylinux_2_17_x86_64.manylinux2014_x86_64.whl (792 kB)\n",
            "Using cached click-8.1.8-py3-none-any.whl (98 kB)\n",
            "Using cached joblib-1.4.2-py3-none-any.whl (301 kB)\n",
            "Using cached tqdm-4.67.1-py3-none-any.whl (78 kB)\n",
            "Installing collected packages: tqdm, regex, joblib, click, nltk\n",
            "  Attempting uninstall: tqdm\n",
            "    Found existing installation: tqdm 4.67.1\n",
            "    Uninstalling tqdm-4.67.1:\n",
            "      Successfully uninstalled tqdm-4.67.1\n",
            "  Attempting uninstall: regex\n",
            "    Found existing installation: regex 2024.11.6\n",
            "    Uninstalling regex-2024.11.6:\n",
            "      Successfully uninstalled regex-2024.11.6\n",
            "  Attempting uninstall: joblib\n",
            "    Found existing installation: joblib 1.4.2\n",
            "    Uninstalling joblib-1.4.2:\n",
            "      Successfully uninstalled joblib-1.4.2\n",
            "  Attempting uninstall: click\n",
            "    Found existing installation: click 8.1.8\n",
            "    Uninstalling click-8.1.8:\n",
            "      Successfully uninstalled click-8.1.8\n",
            "  Attempting uninstall: nltk\n",
            "    Found existing installation: nltk 3.9.1\n",
            "    Uninstalling nltk-3.9.1:\n",
            "      Successfully uninstalled nltk-3.9.1\n",
            "Successfully installed click-8.1.8 joblib-1.4.2 nltk-3.9.1 regex-2024.11.6 tqdm-4.67.1\n"
          ]
        }
      ]
    },
    {
      "cell_type": "code",
      "execution_count": 2,
      "metadata": {
        "id": "TSGYOOKQCkvx",
        "colab": {
          "base_uri": "https://localhost:8080/"
        },
        "outputId": "2f3f6bf5-0546-4515-8c44-27707a2b3510"
      },
      "outputs": [
        {
          "output_type": "stream",
          "name": "stderr",
          "text": [
            "[nltk_data] Downloading package wordnet to /root/nltk_data...\n"
          ]
        }
      ],
      "source": [
        "import torch\n",
        "import pandas as pd\n",
        "import numpy as np\n",
        "import nltk\n",
        "import re\n",
        "from bs4 import BeautifulSoup\n",
        "\n",
        "# Ensure NLTK is correctly installed and restart the kernel\n",
        "nltk.download('wordnet')\n",
        "\n",
        "pd.set_option('display.max_colwidth', None)"
      ]
    },
    {
      "cell_type": "code",
      "execution_count": 3,
      "metadata": {
        "id": "cxVTZ_d-CxBA",
        "colab": {
          "base_uri": "https://localhost:8080/"
        },
        "outputId": "5683d65e-1ddc-4382-f57a-4c56fedc0648"
      },
      "outputs": [
        {
          "output_type": "stream",
          "name": "stderr",
          "text": [
            "<ipython-input-3-dd748172f966>:2: DtypeWarning: Columns (7) have mixed types. Specify dtype option on import or set low_memory=False.\n",
            "  df = pd.read_csv(url, sep='\\t', compression='gzip', usecols=['review_body', 'star_rating'],on_bad_lines='skip')\n"
          ]
        }
      ],
      "source": [
        "url = \"https://web.archive.org/web/20201127142707if_/https://s3.amazonaws.com/amazon-reviews-pds/tsv/amazon_reviews_us_Office_Products_v1_00.tsv.gz\"\n",
        "df = pd.read_csv(url, sep='\\t', compression='gzip', usecols=['review_body', 'star_rating'],on_bad_lines='skip')\n"
      ]
    },
    {
      "cell_type": "code",
      "execution_count": 4,
      "metadata": {
        "id": "tGdgRD_WCw-z",
        "colab": {
          "base_uri": "https://localhost:8080/"
        },
        "outputId": "036f5976-e7c9-497e-b209-626740feb635"
      },
      "outputs": [
        {
          "output_type": "stream",
          "name": "stderr",
          "text": [
            "<ipython-input-4-251f533e7f5c>:10: SettingWithCopyWarning: \n",
            "A value is trying to be set on a copy of a slice from a DataFrame.\n",
            "Try using .loc[row_indexer,col_indexer] = value instead\n",
            "\n",
            "See the caveats in the documentation: https://pandas.pydata.org/pandas-docs/stable/user_guide/indexing.html#returning-a-view-versus-a-copy\n",
            "  df['star_rating'] = df['star_rating'].astype(int)\n"
          ]
        }
      ],
      "source": [
        "#Ensure that star_rating contains only valid numeric values:\n",
        "\n",
        "# Convert star_rating to numeric, coercing errors to NaN\n",
        "df['star_rating'] = pd.to_numeric(df['star_rating'], errors='coerce')\n",
        "\n",
        "# Drop rows with invalid star_rating values\n",
        "df = df.dropna(subset=['star_rating'])\n",
        "\n",
        "# Convert star_rating to integer (if required)\n",
        "df['star_rating'] = df['star_rating'].astype(int)"
      ]
    },
    {
      "cell_type": "code",
      "execution_count": 5,
      "metadata": {
        "id": "cF2mnWdeCw8d",
        "colab": {
          "base_uri": "https://localhost:8080/",
          "height": 510
        },
        "outputId": "1d7f363a-99bf-4941-fcc7-31c3a44d5f47"
      },
      "outputs": [
        {
          "output_type": "execute_result",
          "data": {
            "text/plain": [
              "         star_rating  \\\n",
              "0                  5   \n",
              "1                  5   \n",
              "2                  5   \n",
              "3                  1   \n",
              "4                  4   \n",
              "...              ...   \n",
              "2640347            4   \n",
              "2640348            4   \n",
              "2640349            4   \n",
              "2640350            5   \n",
              "2640351            5   \n",
              "\n",
              "                                                                                                                                                                                                                                                                                                                                                                                                                                                                                                                                                                                                                                                                                                                                                             review_body  \n",
              "0                                                                                                                                                                                                                                                                                                                                                                                                                                                                                                                                                                                                                                                                                                                                                         Great product.  \n",
              "1                                                                                                                                                                                                                                                                                                                                                                                                                                                                                                                                                                                                            What's to say about this commodity item except, what have we come to in this world.<br />Having the need to bnuy captured and compressed air. &#60;lol&#62;  \n",
              "2                                                                                                                                                                                                                                                                                                                                                                                                                                                                                                                                                                                                                                                                                                                        Haven't used yet, but I am sure I will like it.  \n",
              "3        Although this was labeled as &#34;new&#34; the one I received clearly had been used. The box had previously been opened., and the shredder was dirty and the bin was partially full of shredded paper. What was worse is that the unit will not work properly. It is not possible to insert the paper bin so as to enable the shredder to run. It will not operate if the bin is not in place, but I could never get the unit to recognize that the paper bin was actually fully inserted. After cleaning everything thoroughly and vacuuming the paper bin area, it worked ONCE! After that I was unable to get it work at all. I returned the unit immediately for a refund. I feel Amazon misrepresented the  unit as &#34;new&#34; when clearly it was not.  \n",
              "4                                                                                                                                                                                                                                                                                                                                                                                                                                                                                                                                                                                                                                                                                                                                        Gorgeous colors and easy to use  \n",
              "...                                                                                                                                                                                                                                                                                                                                                                                                                                                                                                                                                                                                                                                                                                                                                                  ...  \n",
              "2640347                                                                                                                                                                                                                                                                                              I can't live anymore whithout my Palm III. But I also hate to carry things around. Enter the Belt Clip Case for PalmPilot. It is extremely light, holds thightly to my belt or jeans pocket and it features a hard plastic  screen protection sewed inside. I let my Palm III (inside this case,  fortunately) slip and it fell all the way down on a 17 steps stairs. Not a  single scratch! I wish it only had an internal pocket for credit and  business cards.  \n",
              "2640348                                                                                                                                                                                                                                                                                                                                                                                                                                                      Although the Palm Pilot is thin and compact it may exceed your pocket capacity.  With the belt clip you can carry the Palm Pilot, enter and review data at any time.  This especially useful for physicians who are on  the move constantly. I have found this carrying case to be an excellent  accessory.  \n",
              "2640349                                                                                                                                                                                                                                                                                                                                                                                                                                                                                                                                                                                                                  This book had a lot of great content without being boring or monotonous.   I really enjoy Greek mythology and this book summed it up throughly.  \n",
              "2640350                                                                                                                                                                                                                                                                                                                                                                                                                                                                                                                                                    I am teaching a course in Excel and am using the  step-by-step books. They  are very good. The class is composed of people who are proficient in 1-2-3,  and are computer literate, so we're off and running!  \n",
              "2640351                                                                                                                                                                                                                                                                                                                                                                                                                                                                                                                                                          A very comprehensive layout of exactly how Visual Basic gives the user the ability to master Excel and all of it's functions.  I recommend this book to both first-hand users and seasoned programmers.  \n",
              "\n",
              "[2640335 rows x 2 columns]"
            ],
            "text/html": [
              "\n",
              "  <div id=\"df-359da9f9-a00b-4b35-847a-987ea2688e64\" class=\"colab-df-container\">\n",
              "    <div>\n",
              "<style scoped>\n",
              "    .dataframe tbody tr th:only-of-type {\n",
              "        vertical-align: middle;\n",
              "    }\n",
              "\n",
              "    .dataframe tbody tr th {\n",
              "        vertical-align: top;\n",
              "    }\n",
              "\n",
              "    .dataframe thead th {\n",
              "        text-align: right;\n",
              "    }\n",
              "</style>\n",
              "<table border=\"1\" class=\"dataframe\">\n",
              "  <thead>\n",
              "    <tr style=\"text-align: right;\">\n",
              "      <th></th>\n",
              "      <th>star_rating</th>\n",
              "      <th>review_body</th>\n",
              "    </tr>\n",
              "  </thead>\n",
              "  <tbody>\n",
              "    <tr>\n",
              "      <th>0</th>\n",
              "      <td>5</td>\n",
              "      <td>Great product.</td>\n",
              "    </tr>\n",
              "    <tr>\n",
              "      <th>1</th>\n",
              "      <td>5</td>\n",
              "      <td>What's to say about this commodity item except, what have we come to in this world.&lt;br /&gt;Having the need to bnuy captured and compressed air. &amp;#60;lol&amp;#62;</td>\n",
              "    </tr>\n",
              "    <tr>\n",
              "      <th>2</th>\n",
              "      <td>5</td>\n",
              "      <td>Haven't used yet, but I am sure I will like it.</td>\n",
              "    </tr>\n",
              "    <tr>\n",
              "      <th>3</th>\n",
              "      <td>1</td>\n",
              "      <td>Although this was labeled as &amp;#34;new&amp;#34; the one I received clearly had been used. The box had previously been opened., and the shredder was dirty and the bin was partially full of shredded paper. What was worse is that the unit will not work properly. It is not possible to insert the paper bin so as to enable the shredder to run. It will not operate if the bin is not in place, but I could never get the unit to recognize that the paper bin was actually fully inserted. After cleaning everything thoroughly and vacuuming the paper bin area, it worked ONCE! After that I was unable to get it work at all. I returned the unit immediately for a refund. I feel Amazon misrepresented the  unit as &amp;#34;new&amp;#34; when clearly it was not.</td>\n",
              "    </tr>\n",
              "    <tr>\n",
              "      <th>4</th>\n",
              "      <td>4</td>\n",
              "      <td>Gorgeous colors and easy to use</td>\n",
              "    </tr>\n",
              "    <tr>\n",
              "      <th>...</th>\n",
              "      <td>...</td>\n",
              "      <td>...</td>\n",
              "    </tr>\n",
              "    <tr>\n",
              "      <th>2640347</th>\n",
              "      <td>4</td>\n",
              "      <td>I can't live anymore whithout my Palm III. But I also hate to carry things around. Enter the Belt Clip Case for PalmPilot. It is extremely light, holds thightly to my belt or jeans pocket and it features a hard plastic  screen protection sewed inside. I let my Palm III (inside this case,  fortunately) slip and it fell all the way down on a 17 steps stairs. Not a  single scratch! I wish it only had an internal pocket for credit and  business cards.</td>\n",
              "    </tr>\n",
              "    <tr>\n",
              "      <th>2640348</th>\n",
              "      <td>4</td>\n",
              "      <td>Although the Palm Pilot is thin and compact it may exceed your pocket capacity.  With the belt clip you can carry the Palm Pilot, enter and review data at any time.  This especially useful for physicians who are on  the move constantly. I have found this carrying case to be an excellent  accessory.</td>\n",
              "    </tr>\n",
              "    <tr>\n",
              "      <th>2640349</th>\n",
              "      <td>4</td>\n",
              "      <td>This book had a lot of great content without being boring or monotonous.   I really enjoy Greek mythology and this book summed it up throughly.</td>\n",
              "    </tr>\n",
              "    <tr>\n",
              "      <th>2640350</th>\n",
              "      <td>5</td>\n",
              "      <td>I am teaching a course in Excel and am using the  step-by-step books. They  are very good. The class is composed of people who are proficient in 1-2-3,  and are computer literate, so we're off and running!</td>\n",
              "    </tr>\n",
              "    <tr>\n",
              "      <th>2640351</th>\n",
              "      <td>5</td>\n",
              "      <td>A very comprehensive layout of exactly how Visual Basic gives the user the ability to master Excel and all of it's functions.  I recommend this book to both first-hand users and seasoned programmers.</td>\n",
              "    </tr>\n",
              "  </tbody>\n",
              "</table>\n",
              "<p>2640335 rows × 2 columns</p>\n",
              "</div>\n",
              "    <div class=\"colab-df-buttons\">\n",
              "\n",
              "  <div class=\"colab-df-container\">\n",
              "    <button class=\"colab-df-convert\" onclick=\"convertToInteractive('df-359da9f9-a00b-4b35-847a-987ea2688e64')\"\n",
              "            title=\"Convert this dataframe to an interactive table.\"\n",
              "            style=\"display:none;\">\n",
              "\n",
              "  <svg xmlns=\"http://www.w3.org/2000/svg\" height=\"24px\" viewBox=\"0 -960 960 960\">\n",
              "    <path d=\"M120-120v-720h720v720H120Zm60-500h600v-160H180v160Zm220 220h160v-160H400v160Zm0 220h160v-160H400v160ZM180-400h160v-160H180v160Zm440 0h160v-160H620v160ZM180-180h160v-160H180v160Zm440 0h160v-160H620v160Z\"/>\n",
              "  </svg>\n",
              "    </button>\n",
              "\n",
              "  <style>\n",
              "    .colab-df-container {\n",
              "      display:flex;\n",
              "      gap: 12px;\n",
              "    }\n",
              "\n",
              "    .colab-df-convert {\n",
              "      background-color: #E8F0FE;\n",
              "      border: none;\n",
              "      border-radius: 50%;\n",
              "      cursor: pointer;\n",
              "      display: none;\n",
              "      fill: #1967D2;\n",
              "      height: 32px;\n",
              "      padding: 0 0 0 0;\n",
              "      width: 32px;\n",
              "    }\n",
              "\n",
              "    .colab-df-convert:hover {\n",
              "      background-color: #E2EBFA;\n",
              "      box-shadow: 0px 1px 2px rgba(60, 64, 67, 0.3), 0px 1px 3px 1px rgba(60, 64, 67, 0.15);\n",
              "      fill: #174EA6;\n",
              "    }\n",
              "\n",
              "    .colab-df-buttons div {\n",
              "      margin-bottom: 4px;\n",
              "    }\n",
              "\n",
              "    [theme=dark] .colab-df-convert {\n",
              "      background-color: #3B4455;\n",
              "      fill: #D2E3FC;\n",
              "    }\n",
              "\n",
              "    [theme=dark] .colab-df-convert:hover {\n",
              "      background-color: #434B5C;\n",
              "      box-shadow: 0px 1px 3px 1px rgba(0, 0, 0, 0.15);\n",
              "      filter: drop-shadow(0px 1px 2px rgba(0, 0, 0, 0.3));\n",
              "      fill: #FFFFFF;\n",
              "    }\n",
              "  </style>\n",
              "\n",
              "    <script>\n",
              "      const buttonEl =\n",
              "        document.querySelector('#df-359da9f9-a00b-4b35-847a-987ea2688e64 button.colab-df-convert');\n",
              "      buttonEl.style.display =\n",
              "        google.colab.kernel.accessAllowed ? 'block' : 'none';\n",
              "\n",
              "      async function convertToInteractive(key) {\n",
              "        const element = document.querySelector('#df-359da9f9-a00b-4b35-847a-987ea2688e64');\n",
              "        const dataTable =\n",
              "          await google.colab.kernel.invokeFunction('convertToInteractive',\n",
              "                                                    [key], {});\n",
              "        if (!dataTable) return;\n",
              "\n",
              "        const docLinkHtml = 'Like what you see? Visit the ' +\n",
              "          '<a target=\"_blank\" href=https://colab.research.google.com/notebooks/data_table.ipynb>data table notebook</a>'\n",
              "          + ' to learn more about interactive tables.';\n",
              "        element.innerHTML = '';\n",
              "        dataTable['output_type'] = 'display_data';\n",
              "        await google.colab.output.renderOutput(dataTable, element);\n",
              "        const docLink = document.createElement('div');\n",
              "        docLink.innerHTML = docLinkHtml;\n",
              "        element.appendChild(docLink);\n",
              "      }\n",
              "    </script>\n",
              "  </div>\n",
              "\n",
              "\n",
              "<div id=\"df-ffa79ac0-c7ff-420f-a7d8-0d653f3d09bc\">\n",
              "  <button class=\"colab-df-quickchart\" onclick=\"quickchart('df-ffa79ac0-c7ff-420f-a7d8-0d653f3d09bc')\"\n",
              "            title=\"Suggest charts\"\n",
              "            style=\"display:none;\">\n",
              "\n",
              "<svg xmlns=\"http://www.w3.org/2000/svg\" height=\"24px\"viewBox=\"0 0 24 24\"\n",
              "     width=\"24px\">\n",
              "    <g>\n",
              "        <path d=\"M19 3H5c-1.1 0-2 .9-2 2v14c0 1.1.9 2 2 2h14c1.1 0 2-.9 2-2V5c0-1.1-.9-2-2-2zM9 17H7v-7h2v7zm4 0h-2V7h2v10zm4 0h-2v-4h2v4z\"/>\n",
              "    </g>\n",
              "</svg>\n",
              "  </button>\n",
              "\n",
              "<style>\n",
              "  .colab-df-quickchart {\n",
              "      --bg-color: #E8F0FE;\n",
              "      --fill-color: #1967D2;\n",
              "      --hover-bg-color: #E2EBFA;\n",
              "      --hover-fill-color: #174EA6;\n",
              "      --disabled-fill-color: #AAA;\n",
              "      --disabled-bg-color: #DDD;\n",
              "  }\n",
              "\n",
              "  [theme=dark] .colab-df-quickchart {\n",
              "      --bg-color: #3B4455;\n",
              "      --fill-color: #D2E3FC;\n",
              "      --hover-bg-color: #434B5C;\n",
              "      --hover-fill-color: #FFFFFF;\n",
              "      --disabled-bg-color: #3B4455;\n",
              "      --disabled-fill-color: #666;\n",
              "  }\n",
              "\n",
              "  .colab-df-quickchart {\n",
              "    background-color: var(--bg-color);\n",
              "    border: none;\n",
              "    border-radius: 50%;\n",
              "    cursor: pointer;\n",
              "    display: none;\n",
              "    fill: var(--fill-color);\n",
              "    height: 32px;\n",
              "    padding: 0;\n",
              "    width: 32px;\n",
              "  }\n",
              "\n",
              "  .colab-df-quickchart:hover {\n",
              "    background-color: var(--hover-bg-color);\n",
              "    box-shadow: 0 1px 2px rgba(60, 64, 67, 0.3), 0 1px 3px 1px rgba(60, 64, 67, 0.15);\n",
              "    fill: var(--button-hover-fill-color);\n",
              "  }\n",
              "\n",
              "  .colab-df-quickchart-complete:disabled,\n",
              "  .colab-df-quickchart-complete:disabled:hover {\n",
              "    background-color: var(--disabled-bg-color);\n",
              "    fill: var(--disabled-fill-color);\n",
              "    box-shadow: none;\n",
              "  }\n",
              "\n",
              "  .colab-df-spinner {\n",
              "    border: 2px solid var(--fill-color);\n",
              "    border-color: transparent;\n",
              "    border-bottom-color: var(--fill-color);\n",
              "    animation:\n",
              "      spin 1s steps(1) infinite;\n",
              "  }\n",
              "\n",
              "  @keyframes spin {\n",
              "    0% {\n",
              "      border-color: transparent;\n",
              "      border-bottom-color: var(--fill-color);\n",
              "      border-left-color: var(--fill-color);\n",
              "    }\n",
              "    20% {\n",
              "      border-color: transparent;\n",
              "      border-left-color: var(--fill-color);\n",
              "      border-top-color: var(--fill-color);\n",
              "    }\n",
              "    30% {\n",
              "      border-color: transparent;\n",
              "      border-left-color: var(--fill-color);\n",
              "      border-top-color: var(--fill-color);\n",
              "      border-right-color: var(--fill-color);\n",
              "    }\n",
              "    40% {\n",
              "      border-color: transparent;\n",
              "      border-right-color: var(--fill-color);\n",
              "      border-top-color: var(--fill-color);\n",
              "    }\n",
              "    60% {\n",
              "      border-color: transparent;\n",
              "      border-right-color: var(--fill-color);\n",
              "    }\n",
              "    80% {\n",
              "      border-color: transparent;\n",
              "      border-right-color: var(--fill-color);\n",
              "      border-bottom-color: var(--fill-color);\n",
              "    }\n",
              "    90% {\n",
              "      border-color: transparent;\n",
              "      border-bottom-color: var(--fill-color);\n",
              "    }\n",
              "  }\n",
              "</style>\n",
              "\n",
              "  <script>\n",
              "    async function quickchart(key) {\n",
              "      const quickchartButtonEl =\n",
              "        document.querySelector('#' + key + ' button');\n",
              "      quickchartButtonEl.disabled = true;  // To prevent multiple clicks.\n",
              "      quickchartButtonEl.classList.add('colab-df-spinner');\n",
              "      try {\n",
              "        const charts = await google.colab.kernel.invokeFunction(\n",
              "            'suggestCharts', [key], {});\n",
              "      } catch (error) {\n",
              "        console.error('Error during call to suggestCharts:', error);\n",
              "      }\n",
              "      quickchartButtonEl.classList.remove('colab-df-spinner');\n",
              "      quickchartButtonEl.classList.add('colab-df-quickchart-complete');\n",
              "    }\n",
              "    (() => {\n",
              "      let quickchartButtonEl =\n",
              "        document.querySelector('#df-ffa79ac0-c7ff-420f-a7d8-0d653f3d09bc button');\n",
              "      quickchartButtonEl.style.display =\n",
              "        google.colab.kernel.accessAllowed ? 'block' : 'none';\n",
              "    })();\n",
              "  </script>\n",
              "</div>\n",
              "\n",
              "  <div id=\"id_163666cf-266c-40b8-a225-9ea328fdf643\">\n",
              "    <style>\n",
              "      .colab-df-generate {\n",
              "        background-color: #E8F0FE;\n",
              "        border: none;\n",
              "        border-radius: 50%;\n",
              "        cursor: pointer;\n",
              "        display: none;\n",
              "        fill: #1967D2;\n",
              "        height: 32px;\n",
              "        padding: 0 0 0 0;\n",
              "        width: 32px;\n",
              "      }\n",
              "\n",
              "      .colab-df-generate:hover {\n",
              "        background-color: #E2EBFA;\n",
              "        box-shadow: 0px 1px 2px rgba(60, 64, 67, 0.3), 0px 1px 3px 1px rgba(60, 64, 67, 0.15);\n",
              "        fill: #174EA6;\n",
              "      }\n",
              "\n",
              "      [theme=dark] .colab-df-generate {\n",
              "        background-color: #3B4455;\n",
              "        fill: #D2E3FC;\n",
              "      }\n",
              "\n",
              "      [theme=dark] .colab-df-generate:hover {\n",
              "        background-color: #434B5C;\n",
              "        box-shadow: 0px 1px 3px 1px rgba(0, 0, 0, 0.15);\n",
              "        filter: drop-shadow(0px 1px 2px rgba(0, 0, 0, 0.3));\n",
              "        fill: #FFFFFF;\n",
              "      }\n",
              "    </style>\n",
              "    <button class=\"colab-df-generate\" onclick=\"generateWithVariable('df')\"\n",
              "            title=\"Generate code using this dataframe.\"\n",
              "            style=\"display:none;\">\n",
              "\n",
              "  <svg xmlns=\"http://www.w3.org/2000/svg\" height=\"24px\"viewBox=\"0 0 24 24\"\n",
              "       width=\"24px\">\n",
              "    <path d=\"M7,19H8.4L18.45,9,17,7.55,7,17.6ZM5,21V16.75L18.45,3.32a2,2,0,0,1,2.83,0l1.4,1.43a1.91,1.91,0,0,1,.58,1.4,1.91,1.91,0,0,1-.58,1.4L9.25,21ZM18.45,9,17,7.55Zm-12,3A5.31,5.31,0,0,0,4.9,8.1,5.31,5.31,0,0,0,1,6.5,5.31,5.31,0,0,0,4.9,4.9,5.31,5.31,0,0,0,6.5,1,5.31,5.31,0,0,0,8.1,4.9,5.31,5.31,0,0,0,12,6.5,5.46,5.46,0,0,0,6.5,12Z\"/>\n",
              "  </svg>\n",
              "    </button>\n",
              "    <script>\n",
              "      (() => {\n",
              "      const buttonEl =\n",
              "        document.querySelector('#id_163666cf-266c-40b8-a225-9ea328fdf643 button.colab-df-generate');\n",
              "      buttonEl.style.display =\n",
              "        google.colab.kernel.accessAllowed ? 'block' : 'none';\n",
              "\n",
              "      buttonEl.onclick = () => {\n",
              "        google.colab.notebook.generateWithVariable('df');\n",
              "      }\n",
              "      })();\n",
              "    </script>\n",
              "  </div>\n",
              "\n",
              "    </div>\n",
              "  </div>\n"
            ],
            "application/vnd.google.colaboratory.intrinsic+json": {
              "type": "dataframe",
              "variable_name": "df"
            }
          },
          "metadata": {},
          "execution_count": 5
        }
      ],
      "source": [
        "df"
      ]
    },
    {
      "cell_type": "code",
      "execution_count": 6,
      "metadata": {
        "id": "MUsq6bw6Cw6N",
        "colab": {
          "base_uri": "https://localhost:8080/",
          "height": 636
        },
        "outputId": "6e37abe6-991f-4cf2-bb9c-9c9dc2fff908"
      },
      "outputs": [
        {
          "output_type": "stream",
          "name": "stderr",
          "text": [
            "<ipython-input-6-7afa5d846570>:1: DeprecationWarning: DataFrameGroupBy.apply operated on the grouping columns. This behavior is deprecated, and in a future version of pandas the grouping columns will be excluded from the operation. Either pass `include_groups=False` to exclude the groupings or explicitly select the grouping columns after groupby to silence this warning.\n",
            "  balanced_df = df.groupby('star_rating').apply(lambda x: x.sample(n=50000, random_state=42)).reset_index(drop=True)\n"
          ]
        },
        {
          "output_type": "execute_result",
          "data": {
            "text/plain": [
              "        star_rating  \\\n",
              "0                 1   \n",
              "1                 1   \n",
              "2                 1   \n",
              "3                 1   \n",
              "4                 1   \n",
              "...             ...   \n",
              "249995            5   \n",
              "249996            5   \n",
              "249997            5   \n",
              "249998            5   \n",
              "249999            5   \n",
              "\n",
              "                                                                                                                                                                                                                                                                                                                                                                                                                                                                                                                                                                                                                                                                                                                                                                                                                                                                                                                                                                                                                                                                       review_body  \n",
              "0                                                                                                                                                                                                                                                                                                                                                                                                                                                                                                                                                                                                                                                                                                                                                                                                                                                                                                                  This item was absolutely terrible. The ink barely showed out of my brother printer. I wanted to return it, but it was too late to return. Never buying again...  \n",
              "1                                                                                                                                                                                                                                                                                                                                                                                                                                                                                                                                                                                                                                                                                                                                                                                                                                                                                                                                                                                                                            out from the box there is a blank area when it print.  \n",
              "2       I read ALL the reviews Bad & Good and made my Choice, Wrong Choice!!! I really, Really Love Amazon.com But they really need to Use some of these Catridges for Theirself and Evaluate Them. my Printer was Printing Fine it just needed Ink so I looked these up on Amazon and took a Chance even with more than a few Negative Reviews. I sent some Samples of the Horrible attempt at printing in the Box With The easy return for Refund. Went to WalMart and picked up 2 combo packs of Kodak ink for my Two Printers and Sure Enough it went back to Printing Perfect, Both of the Printers. Well I guess the Fact that Kodak's Ink  is so Cheap that It has a tendantcy to push you to see just how cheap you can get it for. Please Folks Save your Time and Frustrations for more Important Troubles in your life, Don't Be Greedy. Buy the Kodak Ink you Won't be Dissapointed. Thanks Amazon, for Your easy Returns, because with out them I would really be up the Creek without a Paddle. I just can't say enough, \\\\\"How much I love Amazon.com\\\\\"    Thanks,  \n",
              "3                                                                                                                                                                                                                                                                                                                                                                                                                                                                                                                                                                                                                                                                                                                                                                                                                                                                            This came very sharp and it would not come apart. I would not recommend buying this because it cut my finger and it came made wrong. This broke in one day and I regret buying it. Waste of money. :(  \n",
              "4                                                                                                                                                                                                                                                                                                                                                                                                                                                                                                                                                                                                                                                                                                                                                                                                          I'd give this day timer zero stars if that was an option.  This calendar is 2 years old! It does say 2011 in the fine print - but being the sucker buyer I did not realize I'd have to verify if it was current - and I paid almost $20 for this old, useless calendar.  \n",
              "...                                                                                                                                                                                                                                                                                                                                                                                                                                                                                                                                                                                                                                                                                                                                                                                                                                                                                                                                                                                                                                                                            ...  \n",
              "249995                                                                                                                                                                                                                                                                                                                                                                                                                                                                                                                                                                                                                                                                                                                                                                                                                                                                                                                                                              LO QUE BUSCABA PARA MI OFICINA EN CASA MUY BUEN PRODUCTO LO RECOMIENDO PARA PERSONAS QUE POSEEN SUS OFICINAS A  \n",
              "249996                                                                                                                                                                                                                                                                               I have had Panasonic 3 phones for a long time.  Recently I had no phones, internet, or security system.  I decided to start with new phones.  After reading all of the reviews I decided this was the phone system I needed.  They came very fast.  Still no phone.  The phone company came out and found a broken cable leading into my house.  Once this was fixed I instantly had phones, internet, & security system.  I wish I had ordered a four phone system as I found another area I would like a phone.  So, checked with Amazon and instantly found one.  It arrived before scheduled delivery date.  I love the \\\\\"talking\\\\\" feature.  I do not bother to answer my phone when it tells me \\\\\"out of area\\\\\".  I am sure my older phones still work!*  Love Panasonic & Amazon!.  \n",
              "249997                                                                                                                                                                                                                                                                                                                                                                                                                                                                                                                                                                                                                                                                                                                                                                                                                                                                                                                                                                  These are great pens to draw with and I like the softness of the brush side and the fine tip on the other.  \n",
              "249998                                                                                                                                                                                                                                                                                                                                                                                                                                                                                                                                                                                                                                                              I do martial arts, Jiu-Jitsu and I like to take notes and this book is sturdy and it can take a beating in the room when I am throwing it around after the instructional to the side before drilling.  It is great for taking notes in general and good solid book.  You can definitely defend yourself with this thing.  If this book can handle my roughness it can handle your basic needs, will buy again.  \n",
              "249999                                                                                                                                                                                                                                                                                                                                                                                                                                                                                                                                                                                                                                                                                                                                                                                                                                                                                                                                                                                                           LoVe it.  Very good quality.  Love having both colors in my hand.  \n",
              "\n",
              "[250000 rows x 2 columns]"
            ],
            "text/html": [
              "\n",
              "  <div id=\"df-7f46ef2b-f261-4d6f-89c5-8ff34b01c4d3\" class=\"colab-df-container\">\n",
              "    <div>\n",
              "<style scoped>\n",
              "    .dataframe tbody tr th:only-of-type {\n",
              "        vertical-align: middle;\n",
              "    }\n",
              "\n",
              "    .dataframe tbody tr th {\n",
              "        vertical-align: top;\n",
              "    }\n",
              "\n",
              "    .dataframe thead th {\n",
              "        text-align: right;\n",
              "    }\n",
              "</style>\n",
              "<table border=\"1\" class=\"dataframe\">\n",
              "  <thead>\n",
              "    <tr style=\"text-align: right;\">\n",
              "      <th></th>\n",
              "      <th>star_rating</th>\n",
              "      <th>review_body</th>\n",
              "    </tr>\n",
              "  </thead>\n",
              "  <tbody>\n",
              "    <tr>\n",
              "      <th>0</th>\n",
              "      <td>1</td>\n",
              "      <td>This item was absolutely terrible. The ink barely showed out of my brother printer. I wanted to return it, but it was too late to return. Never buying again...</td>\n",
              "    </tr>\n",
              "    <tr>\n",
              "      <th>1</th>\n",
              "      <td>1</td>\n",
              "      <td>out from the box there is a blank area when it print.</td>\n",
              "    </tr>\n",
              "    <tr>\n",
              "      <th>2</th>\n",
              "      <td>1</td>\n",
              "      <td>I read ALL the reviews Bad &amp; Good and made my Choice, Wrong Choice!!! I really, Really Love Amazon.com But they really need to Use some of these Catridges for Theirself and Evaluate Them. my Printer was Printing Fine it just needed Ink so I looked these up on Amazon and took a Chance even with more than a few Negative Reviews. I sent some Samples of the Horrible attempt at printing in the Box With The easy return for Refund. Went to WalMart and picked up 2 combo packs of Kodak ink for my Two Printers and Sure Enough it went back to Printing Perfect, Both of the Printers. Well I guess the Fact that Kodak's Ink  is so Cheap that It has a tendantcy to push you to see just how cheap you can get it for. Please Folks Save your Time and Frustrations for more Important Troubles in your life, Don't Be Greedy. Buy the Kodak Ink you Won't be Dissapointed. Thanks Amazon, for Your easy Returns, because with out them I would really be up the Creek without a Paddle. I just can't say enough, \\\\\"How much I love Amazon.com\\\\\"    Thanks,</td>\n",
              "    </tr>\n",
              "    <tr>\n",
              "      <th>3</th>\n",
              "      <td>1</td>\n",
              "      <td>This came very sharp and it would not come apart. I would not recommend buying this because it cut my finger and it came made wrong. This broke in one day and I regret buying it. Waste of money. :(</td>\n",
              "    </tr>\n",
              "    <tr>\n",
              "      <th>4</th>\n",
              "      <td>1</td>\n",
              "      <td>I'd give this day timer zero stars if that was an option.  This calendar is 2 years old! It does say 2011 in the fine print - but being the sucker buyer I did not realize I'd have to verify if it was current - and I paid almost $20 for this old, useless calendar.</td>\n",
              "    </tr>\n",
              "    <tr>\n",
              "      <th>...</th>\n",
              "      <td>...</td>\n",
              "      <td>...</td>\n",
              "    </tr>\n",
              "    <tr>\n",
              "      <th>249995</th>\n",
              "      <td>5</td>\n",
              "      <td>LO QUE BUSCABA PARA MI OFICINA EN CASA MUY BUEN PRODUCTO LO RECOMIENDO PARA PERSONAS QUE POSEEN SUS OFICINAS A</td>\n",
              "    </tr>\n",
              "    <tr>\n",
              "      <th>249996</th>\n",
              "      <td>5</td>\n",
              "      <td>I have had Panasonic 3 phones for a long time.  Recently I had no phones, internet, or security system.  I decided to start with new phones.  After reading all of the reviews I decided this was the phone system I needed.  They came very fast.  Still no phone.  The phone company came out and found a broken cable leading into my house.  Once this was fixed I instantly had phones, internet, &amp; security system.  I wish I had ordered a four phone system as I found another area I would like a phone.  So, checked with Amazon and instantly found one.  It arrived before scheduled delivery date.  I love the \\\\\"talking\\\\\" feature.  I do not bother to answer my phone when it tells me \\\\\"out of area\\\\\".  I am sure my older phones still work!*  Love Panasonic &amp; Amazon!.</td>\n",
              "    </tr>\n",
              "    <tr>\n",
              "      <th>249997</th>\n",
              "      <td>5</td>\n",
              "      <td>These are great pens to draw with and I like the softness of the brush side and the fine tip on the other.</td>\n",
              "    </tr>\n",
              "    <tr>\n",
              "      <th>249998</th>\n",
              "      <td>5</td>\n",
              "      <td>I do martial arts, Jiu-Jitsu and I like to take notes and this book is sturdy and it can take a beating in the room when I am throwing it around after the instructional to the side before drilling.  It is great for taking notes in general and good solid book.  You can definitely defend yourself with this thing.  If this book can handle my roughness it can handle your basic needs, will buy again.</td>\n",
              "    </tr>\n",
              "    <tr>\n",
              "      <th>249999</th>\n",
              "      <td>5</td>\n",
              "      <td>LoVe it.  Very good quality.  Love having both colors in my hand.</td>\n",
              "    </tr>\n",
              "  </tbody>\n",
              "</table>\n",
              "<p>250000 rows × 2 columns</p>\n",
              "</div>\n",
              "    <div class=\"colab-df-buttons\">\n",
              "\n",
              "  <div class=\"colab-df-container\">\n",
              "    <button class=\"colab-df-convert\" onclick=\"convertToInteractive('df-7f46ef2b-f261-4d6f-89c5-8ff34b01c4d3')\"\n",
              "            title=\"Convert this dataframe to an interactive table.\"\n",
              "            style=\"display:none;\">\n",
              "\n",
              "  <svg xmlns=\"http://www.w3.org/2000/svg\" height=\"24px\" viewBox=\"0 -960 960 960\">\n",
              "    <path d=\"M120-120v-720h720v720H120Zm60-500h600v-160H180v160Zm220 220h160v-160H400v160Zm0 220h160v-160H400v160ZM180-400h160v-160H180v160Zm440 0h160v-160H620v160ZM180-180h160v-160H180v160Zm440 0h160v-160H620v160Z\"/>\n",
              "  </svg>\n",
              "    </button>\n",
              "\n",
              "  <style>\n",
              "    .colab-df-container {\n",
              "      display:flex;\n",
              "      gap: 12px;\n",
              "    }\n",
              "\n",
              "    .colab-df-convert {\n",
              "      background-color: #E8F0FE;\n",
              "      border: none;\n",
              "      border-radius: 50%;\n",
              "      cursor: pointer;\n",
              "      display: none;\n",
              "      fill: #1967D2;\n",
              "      height: 32px;\n",
              "      padding: 0 0 0 0;\n",
              "      width: 32px;\n",
              "    }\n",
              "\n",
              "    .colab-df-convert:hover {\n",
              "      background-color: #E2EBFA;\n",
              "      box-shadow: 0px 1px 2px rgba(60, 64, 67, 0.3), 0px 1px 3px 1px rgba(60, 64, 67, 0.15);\n",
              "      fill: #174EA6;\n",
              "    }\n",
              "\n",
              "    .colab-df-buttons div {\n",
              "      margin-bottom: 4px;\n",
              "    }\n",
              "\n",
              "    [theme=dark] .colab-df-convert {\n",
              "      background-color: #3B4455;\n",
              "      fill: #D2E3FC;\n",
              "    }\n",
              "\n",
              "    [theme=dark] .colab-df-convert:hover {\n",
              "      background-color: #434B5C;\n",
              "      box-shadow: 0px 1px 3px 1px rgba(0, 0, 0, 0.15);\n",
              "      filter: drop-shadow(0px 1px 2px rgba(0, 0, 0, 0.3));\n",
              "      fill: #FFFFFF;\n",
              "    }\n",
              "  </style>\n",
              "\n",
              "    <script>\n",
              "      const buttonEl =\n",
              "        document.querySelector('#df-7f46ef2b-f261-4d6f-89c5-8ff34b01c4d3 button.colab-df-convert');\n",
              "      buttonEl.style.display =\n",
              "        google.colab.kernel.accessAllowed ? 'block' : 'none';\n",
              "\n",
              "      async function convertToInteractive(key) {\n",
              "        const element = document.querySelector('#df-7f46ef2b-f261-4d6f-89c5-8ff34b01c4d3');\n",
              "        const dataTable =\n",
              "          await google.colab.kernel.invokeFunction('convertToInteractive',\n",
              "                                                    [key], {});\n",
              "        if (!dataTable) return;\n",
              "\n",
              "        const docLinkHtml = 'Like what you see? Visit the ' +\n",
              "          '<a target=\"_blank\" href=https://colab.research.google.com/notebooks/data_table.ipynb>data table notebook</a>'\n",
              "          + ' to learn more about interactive tables.';\n",
              "        element.innerHTML = '';\n",
              "        dataTable['output_type'] = 'display_data';\n",
              "        await google.colab.output.renderOutput(dataTable, element);\n",
              "        const docLink = document.createElement('div');\n",
              "        docLink.innerHTML = docLinkHtml;\n",
              "        element.appendChild(docLink);\n",
              "      }\n",
              "    </script>\n",
              "  </div>\n",
              "\n",
              "\n",
              "<div id=\"df-88db631b-0c7b-4ad6-9cdd-845ebc6713fe\">\n",
              "  <button class=\"colab-df-quickchart\" onclick=\"quickchart('df-88db631b-0c7b-4ad6-9cdd-845ebc6713fe')\"\n",
              "            title=\"Suggest charts\"\n",
              "            style=\"display:none;\">\n",
              "\n",
              "<svg xmlns=\"http://www.w3.org/2000/svg\" height=\"24px\"viewBox=\"0 0 24 24\"\n",
              "     width=\"24px\">\n",
              "    <g>\n",
              "        <path d=\"M19 3H5c-1.1 0-2 .9-2 2v14c0 1.1.9 2 2 2h14c1.1 0 2-.9 2-2V5c0-1.1-.9-2-2-2zM9 17H7v-7h2v7zm4 0h-2V7h2v10zm4 0h-2v-4h2v4z\"/>\n",
              "    </g>\n",
              "</svg>\n",
              "  </button>\n",
              "\n",
              "<style>\n",
              "  .colab-df-quickchart {\n",
              "      --bg-color: #E8F0FE;\n",
              "      --fill-color: #1967D2;\n",
              "      --hover-bg-color: #E2EBFA;\n",
              "      --hover-fill-color: #174EA6;\n",
              "      --disabled-fill-color: #AAA;\n",
              "      --disabled-bg-color: #DDD;\n",
              "  }\n",
              "\n",
              "  [theme=dark] .colab-df-quickchart {\n",
              "      --bg-color: #3B4455;\n",
              "      --fill-color: #D2E3FC;\n",
              "      --hover-bg-color: #434B5C;\n",
              "      --hover-fill-color: #FFFFFF;\n",
              "      --disabled-bg-color: #3B4455;\n",
              "      --disabled-fill-color: #666;\n",
              "  }\n",
              "\n",
              "  .colab-df-quickchart {\n",
              "    background-color: var(--bg-color);\n",
              "    border: none;\n",
              "    border-radius: 50%;\n",
              "    cursor: pointer;\n",
              "    display: none;\n",
              "    fill: var(--fill-color);\n",
              "    height: 32px;\n",
              "    padding: 0;\n",
              "    width: 32px;\n",
              "  }\n",
              "\n",
              "  .colab-df-quickchart:hover {\n",
              "    background-color: var(--hover-bg-color);\n",
              "    box-shadow: 0 1px 2px rgba(60, 64, 67, 0.3), 0 1px 3px 1px rgba(60, 64, 67, 0.15);\n",
              "    fill: var(--button-hover-fill-color);\n",
              "  }\n",
              "\n",
              "  .colab-df-quickchart-complete:disabled,\n",
              "  .colab-df-quickchart-complete:disabled:hover {\n",
              "    background-color: var(--disabled-bg-color);\n",
              "    fill: var(--disabled-fill-color);\n",
              "    box-shadow: none;\n",
              "  }\n",
              "\n",
              "  .colab-df-spinner {\n",
              "    border: 2px solid var(--fill-color);\n",
              "    border-color: transparent;\n",
              "    border-bottom-color: var(--fill-color);\n",
              "    animation:\n",
              "      spin 1s steps(1) infinite;\n",
              "  }\n",
              "\n",
              "  @keyframes spin {\n",
              "    0% {\n",
              "      border-color: transparent;\n",
              "      border-bottom-color: var(--fill-color);\n",
              "      border-left-color: var(--fill-color);\n",
              "    }\n",
              "    20% {\n",
              "      border-color: transparent;\n",
              "      border-left-color: var(--fill-color);\n",
              "      border-top-color: var(--fill-color);\n",
              "    }\n",
              "    30% {\n",
              "      border-color: transparent;\n",
              "      border-left-color: var(--fill-color);\n",
              "      border-top-color: var(--fill-color);\n",
              "      border-right-color: var(--fill-color);\n",
              "    }\n",
              "    40% {\n",
              "      border-color: transparent;\n",
              "      border-right-color: var(--fill-color);\n",
              "      border-top-color: var(--fill-color);\n",
              "    }\n",
              "    60% {\n",
              "      border-color: transparent;\n",
              "      border-right-color: var(--fill-color);\n",
              "    }\n",
              "    80% {\n",
              "      border-color: transparent;\n",
              "      border-right-color: var(--fill-color);\n",
              "      border-bottom-color: var(--fill-color);\n",
              "    }\n",
              "    90% {\n",
              "      border-color: transparent;\n",
              "      border-bottom-color: var(--fill-color);\n",
              "    }\n",
              "  }\n",
              "</style>\n",
              "\n",
              "  <script>\n",
              "    async function quickchart(key) {\n",
              "      const quickchartButtonEl =\n",
              "        document.querySelector('#' + key + ' button');\n",
              "      quickchartButtonEl.disabled = true;  // To prevent multiple clicks.\n",
              "      quickchartButtonEl.classList.add('colab-df-spinner');\n",
              "      try {\n",
              "        const charts = await google.colab.kernel.invokeFunction(\n",
              "            'suggestCharts', [key], {});\n",
              "      } catch (error) {\n",
              "        console.error('Error during call to suggestCharts:', error);\n",
              "      }\n",
              "      quickchartButtonEl.classList.remove('colab-df-spinner');\n",
              "      quickchartButtonEl.classList.add('colab-df-quickchart-complete');\n",
              "    }\n",
              "    (() => {\n",
              "      let quickchartButtonEl =\n",
              "        document.querySelector('#df-88db631b-0c7b-4ad6-9cdd-845ebc6713fe button');\n",
              "      quickchartButtonEl.style.display =\n",
              "        google.colab.kernel.accessAllowed ? 'block' : 'none';\n",
              "    })();\n",
              "  </script>\n",
              "</div>\n",
              "\n",
              "  <div id=\"id_abc07ee3-93dc-4de8-b0b2-8909128cc245\">\n",
              "    <style>\n",
              "      .colab-df-generate {\n",
              "        background-color: #E8F0FE;\n",
              "        border: none;\n",
              "        border-radius: 50%;\n",
              "        cursor: pointer;\n",
              "        display: none;\n",
              "        fill: #1967D2;\n",
              "        height: 32px;\n",
              "        padding: 0 0 0 0;\n",
              "        width: 32px;\n",
              "      }\n",
              "\n",
              "      .colab-df-generate:hover {\n",
              "        background-color: #E2EBFA;\n",
              "        box-shadow: 0px 1px 2px rgba(60, 64, 67, 0.3), 0px 1px 3px 1px rgba(60, 64, 67, 0.15);\n",
              "        fill: #174EA6;\n",
              "      }\n",
              "\n",
              "      [theme=dark] .colab-df-generate {\n",
              "        background-color: #3B4455;\n",
              "        fill: #D2E3FC;\n",
              "      }\n",
              "\n",
              "      [theme=dark] .colab-df-generate:hover {\n",
              "        background-color: #434B5C;\n",
              "        box-shadow: 0px 1px 3px 1px rgba(0, 0, 0, 0.15);\n",
              "        filter: drop-shadow(0px 1px 2px rgba(0, 0, 0, 0.3));\n",
              "        fill: #FFFFFF;\n",
              "      }\n",
              "    </style>\n",
              "    <button class=\"colab-df-generate\" onclick=\"generateWithVariable('balanced_df')\"\n",
              "            title=\"Generate code using this dataframe.\"\n",
              "            style=\"display:none;\">\n",
              "\n",
              "  <svg xmlns=\"http://www.w3.org/2000/svg\" height=\"24px\"viewBox=\"0 0 24 24\"\n",
              "       width=\"24px\">\n",
              "    <path d=\"M7,19H8.4L18.45,9,17,7.55,7,17.6ZM5,21V16.75L18.45,3.32a2,2,0,0,1,2.83,0l1.4,1.43a1.91,1.91,0,0,1,.58,1.4,1.91,1.91,0,0,1-.58,1.4L9.25,21ZM18.45,9,17,7.55Zm-12,3A5.31,5.31,0,0,0,4.9,8.1,5.31,5.31,0,0,0,1,6.5,5.31,5.31,0,0,0,4.9,4.9,5.31,5.31,0,0,0,6.5,1,5.31,5.31,0,0,0,8.1,4.9,5.31,5.31,0,0,0,12,6.5,5.46,5.46,0,0,0,6.5,12Z\"/>\n",
              "  </svg>\n",
              "    </button>\n",
              "    <script>\n",
              "      (() => {\n",
              "      const buttonEl =\n",
              "        document.querySelector('#id_abc07ee3-93dc-4de8-b0b2-8909128cc245 button.colab-df-generate');\n",
              "      buttonEl.style.display =\n",
              "        google.colab.kernel.accessAllowed ? 'block' : 'none';\n",
              "\n",
              "      buttonEl.onclick = () => {\n",
              "        google.colab.notebook.generateWithVariable('balanced_df');\n",
              "      }\n",
              "      })();\n",
              "    </script>\n",
              "  </div>\n",
              "\n",
              "    </div>\n",
              "  </div>\n"
            ],
            "application/vnd.google.colaboratory.intrinsic+json": {
              "type": "dataframe",
              "variable_name": "balanced_df"
            }
          },
          "metadata": {},
          "execution_count": 6
        }
      ],
      "source": [
        "balanced_df = df.groupby('star_rating').apply(lambda x: x.sample(n=50000, random_state=42)).reset_index(drop=True)\n",
        "balanced_df"
      ]
    },
    {
      "cell_type": "code",
      "execution_count": 7,
      "metadata": {
        "id": "xre8D6qmCw3x",
        "colab": {
          "base_uri": "https://localhost:8080/",
          "height": 597
        },
        "outputId": "48297649-9478-4a92-906c-73221b037af9"
      },
      "outputs": [
        {
          "output_type": "execute_result",
          "data": {
            "text/plain": [
              "        star_rating  \\\n",
              "0                 1   \n",
              "1                 1   \n",
              "2                 1   \n",
              "3                 1   \n",
              "4                 1   \n",
              "...             ...   \n",
              "249995            5   \n",
              "249996            5   \n",
              "249997            5   \n",
              "249998            5   \n",
              "249999            5   \n",
              "\n",
              "                                                                                                                                                                                                                                                                                                                                                                                                                                                                                                                                                                                                                                                                                                                                                                                                                                                                                                                                                                                                                                                                       review_body  \\\n",
              "0                                                                                                                                                                                                                                                                                                                                                                                                                                                                                                                                                                                                                                                                                                                                                                                                                                                                                                                  This item was absolutely terrible. The ink barely showed out of my brother printer. I wanted to return it, but it was too late to return. Never buying again...   \n",
              "1                                                                                                                                                                                                                                                                                                                                                                                                                                                                                                                                                                                                                                                                                                                                                                                                                                                                                                                                                                                                                            out from the box there is a blank area when it print.   \n",
              "2       I read ALL the reviews Bad & Good and made my Choice, Wrong Choice!!! I really, Really Love Amazon.com But they really need to Use some of these Catridges for Theirself and Evaluate Them. my Printer was Printing Fine it just needed Ink so I looked these up on Amazon and took a Chance even with more than a few Negative Reviews. I sent some Samples of the Horrible attempt at printing in the Box With The easy return for Refund. Went to WalMart and picked up 2 combo packs of Kodak ink for my Two Printers and Sure Enough it went back to Printing Perfect, Both of the Printers. Well I guess the Fact that Kodak's Ink  is so Cheap that It has a tendantcy to push you to see just how cheap you can get it for. Please Folks Save your Time and Frustrations for more Important Troubles in your life, Don't Be Greedy. Buy the Kodak Ink you Won't be Dissapointed. Thanks Amazon, for Your easy Returns, because with out them I would really be up the Creek without a Paddle. I just can't say enough, \\\\\"How much I love Amazon.com\\\\\"    Thanks,   \n",
              "3                                                                                                                                                                                                                                                                                                                                                                                                                                                                                                                                                                                                                                                                                                                                                                                                                                                                            This came very sharp and it would not come apart. I would not recommend buying this because it cut my finger and it came made wrong. This broke in one day and I regret buying it. Waste of money. :(   \n",
              "4                                                                                                                                                                                                                                                                                                                                                                                                                                                                                                                                                                                                                                                                                                                                                                                                          I'd give this day timer zero stars if that was an option.  This calendar is 2 years old! It does say 2011 in the fine print - but being the sucker buyer I did not realize I'd have to verify if it was current - and I paid almost $20 for this old, useless calendar.   \n",
              "...                                                                                                                                                                                                                                                                                                                                                                                                                                                                                                                                                                                                                                                                                                                                                                                                                                                                                                                                                                                                                                                                            ...   \n",
              "249995                                                                                                                                                                                                                                                                                                                                                                                                                                                                                                                                                                                                                                                                                                                                                                                                                                                                                                                                                              LO QUE BUSCABA PARA MI OFICINA EN CASA MUY BUEN PRODUCTO LO RECOMIENDO PARA PERSONAS QUE POSEEN SUS OFICINAS A   \n",
              "249996                                                                                                                                                                                                                                                                               I have had Panasonic 3 phones for a long time.  Recently I had no phones, internet, or security system.  I decided to start with new phones.  After reading all of the reviews I decided this was the phone system I needed.  They came very fast.  Still no phone.  The phone company came out and found a broken cable leading into my house.  Once this was fixed I instantly had phones, internet, & security system.  I wish I had ordered a four phone system as I found another area I would like a phone.  So, checked with Amazon and instantly found one.  It arrived before scheduled delivery date.  I love the \\\\\"talking\\\\\" feature.  I do not bother to answer my phone when it tells me \\\\\"out of area\\\\\".  I am sure my older phones still work!*  Love Panasonic & Amazon!.   \n",
              "249997                                                                                                                                                                                                                                                                                                                                                                                                                                                                                                                                                                                                                                                                                                                                                                                                                                                                                                                                                                  These are great pens to draw with and I like the softness of the brush side and the fine tip on the other.   \n",
              "249998                                                                                                                                                                                                                                                                                                                                                                                                                                                                                                                                                                                                                                                              I do martial arts, Jiu-Jitsu and I like to take notes and this book is sturdy and it can take a beating in the room when I am throwing it around after the instructional to the side before drilling.  It is great for taking notes in general and good solid book.  You can definitely defend yourself with this thing.  If this book can handle my roughness it can handle your basic needs, will buy again.   \n",
              "249999                                                                                                                                                                                                                                                                                                                                                                                                                                                                                                                                                                                                                                                                                                                                                                                                                                                                                                                                                                                                           LoVe it.  Very good quality.  Love having both colors in my hand.   \n",
              "\n",
              "        sentiment  \n",
              "0               2  \n",
              "1               2  \n",
              "2               2  \n",
              "3               2  \n",
              "4               2  \n",
              "...           ...  \n",
              "249995          1  \n",
              "249996          1  \n",
              "249997          1  \n",
              "249998          1  \n",
              "249999          1  \n",
              "\n",
              "[250000 rows x 3 columns]"
            ],
            "text/html": [
              "\n",
              "  <div id=\"df-95aab938-a87e-4f6e-8c8e-3662d6b67330\" class=\"colab-df-container\">\n",
              "    <div>\n",
              "<style scoped>\n",
              "    .dataframe tbody tr th:only-of-type {\n",
              "        vertical-align: middle;\n",
              "    }\n",
              "\n",
              "    .dataframe tbody tr th {\n",
              "        vertical-align: top;\n",
              "    }\n",
              "\n",
              "    .dataframe thead th {\n",
              "        text-align: right;\n",
              "    }\n",
              "</style>\n",
              "<table border=\"1\" class=\"dataframe\">\n",
              "  <thead>\n",
              "    <tr style=\"text-align: right;\">\n",
              "      <th></th>\n",
              "      <th>star_rating</th>\n",
              "      <th>review_body</th>\n",
              "      <th>sentiment</th>\n",
              "    </tr>\n",
              "  </thead>\n",
              "  <tbody>\n",
              "    <tr>\n",
              "      <th>0</th>\n",
              "      <td>1</td>\n",
              "      <td>This item was absolutely terrible. The ink barely showed out of my brother printer. I wanted to return it, but it was too late to return. Never buying again...</td>\n",
              "      <td>2</td>\n",
              "    </tr>\n",
              "    <tr>\n",
              "      <th>1</th>\n",
              "      <td>1</td>\n",
              "      <td>out from the box there is a blank area when it print.</td>\n",
              "      <td>2</td>\n",
              "    </tr>\n",
              "    <tr>\n",
              "      <th>2</th>\n",
              "      <td>1</td>\n",
              "      <td>I read ALL the reviews Bad &amp; Good and made my Choice, Wrong Choice!!! I really, Really Love Amazon.com But they really need to Use some of these Catridges for Theirself and Evaluate Them. my Printer was Printing Fine it just needed Ink so I looked these up on Amazon and took a Chance even with more than a few Negative Reviews. I sent some Samples of the Horrible attempt at printing in the Box With The easy return for Refund. Went to WalMart and picked up 2 combo packs of Kodak ink for my Two Printers and Sure Enough it went back to Printing Perfect, Both of the Printers. Well I guess the Fact that Kodak's Ink  is so Cheap that It has a tendantcy to push you to see just how cheap you can get it for. Please Folks Save your Time and Frustrations for more Important Troubles in your life, Don't Be Greedy. Buy the Kodak Ink you Won't be Dissapointed. Thanks Amazon, for Your easy Returns, because with out them I would really be up the Creek without a Paddle. I just can't say enough, \\\\\"How much I love Amazon.com\\\\\"    Thanks,</td>\n",
              "      <td>2</td>\n",
              "    </tr>\n",
              "    <tr>\n",
              "      <th>3</th>\n",
              "      <td>1</td>\n",
              "      <td>This came very sharp and it would not come apart. I would not recommend buying this because it cut my finger and it came made wrong. This broke in one day and I regret buying it. Waste of money. :(</td>\n",
              "      <td>2</td>\n",
              "    </tr>\n",
              "    <tr>\n",
              "      <th>4</th>\n",
              "      <td>1</td>\n",
              "      <td>I'd give this day timer zero stars if that was an option.  This calendar is 2 years old! It does say 2011 in the fine print - but being the sucker buyer I did not realize I'd have to verify if it was current - and I paid almost $20 for this old, useless calendar.</td>\n",
              "      <td>2</td>\n",
              "    </tr>\n",
              "    <tr>\n",
              "      <th>...</th>\n",
              "      <td>...</td>\n",
              "      <td>...</td>\n",
              "      <td>...</td>\n",
              "    </tr>\n",
              "    <tr>\n",
              "      <th>249995</th>\n",
              "      <td>5</td>\n",
              "      <td>LO QUE BUSCABA PARA MI OFICINA EN CASA MUY BUEN PRODUCTO LO RECOMIENDO PARA PERSONAS QUE POSEEN SUS OFICINAS A</td>\n",
              "      <td>1</td>\n",
              "    </tr>\n",
              "    <tr>\n",
              "      <th>249996</th>\n",
              "      <td>5</td>\n",
              "      <td>I have had Panasonic 3 phones for a long time.  Recently I had no phones, internet, or security system.  I decided to start with new phones.  After reading all of the reviews I decided this was the phone system I needed.  They came very fast.  Still no phone.  The phone company came out and found a broken cable leading into my house.  Once this was fixed I instantly had phones, internet, &amp; security system.  I wish I had ordered a four phone system as I found another area I would like a phone.  So, checked with Amazon and instantly found one.  It arrived before scheduled delivery date.  I love the \\\\\"talking\\\\\" feature.  I do not bother to answer my phone when it tells me \\\\\"out of area\\\\\".  I am sure my older phones still work!*  Love Panasonic &amp; Amazon!.</td>\n",
              "      <td>1</td>\n",
              "    </tr>\n",
              "    <tr>\n",
              "      <th>249997</th>\n",
              "      <td>5</td>\n",
              "      <td>These are great pens to draw with and I like the softness of the brush side and the fine tip on the other.</td>\n",
              "      <td>1</td>\n",
              "    </tr>\n",
              "    <tr>\n",
              "      <th>249998</th>\n",
              "      <td>5</td>\n",
              "      <td>I do martial arts, Jiu-Jitsu and I like to take notes and this book is sturdy and it can take a beating in the room when I am throwing it around after the instructional to the side before drilling.  It is great for taking notes in general and good solid book.  You can definitely defend yourself with this thing.  If this book can handle my roughness it can handle your basic needs, will buy again.</td>\n",
              "      <td>1</td>\n",
              "    </tr>\n",
              "    <tr>\n",
              "      <th>249999</th>\n",
              "      <td>5</td>\n",
              "      <td>LoVe it.  Very good quality.  Love having both colors in my hand.</td>\n",
              "      <td>1</td>\n",
              "    </tr>\n",
              "  </tbody>\n",
              "</table>\n",
              "<p>250000 rows × 3 columns</p>\n",
              "</div>\n",
              "    <div class=\"colab-df-buttons\">\n",
              "\n",
              "  <div class=\"colab-df-container\">\n",
              "    <button class=\"colab-df-convert\" onclick=\"convertToInteractive('df-95aab938-a87e-4f6e-8c8e-3662d6b67330')\"\n",
              "            title=\"Convert this dataframe to an interactive table.\"\n",
              "            style=\"display:none;\">\n",
              "\n",
              "  <svg xmlns=\"http://www.w3.org/2000/svg\" height=\"24px\" viewBox=\"0 -960 960 960\">\n",
              "    <path d=\"M120-120v-720h720v720H120Zm60-500h600v-160H180v160Zm220 220h160v-160H400v160Zm0 220h160v-160H400v160ZM180-400h160v-160H180v160Zm440 0h160v-160H620v160ZM180-180h160v-160H180v160Zm440 0h160v-160H620v160Z\"/>\n",
              "  </svg>\n",
              "    </button>\n",
              "\n",
              "  <style>\n",
              "    .colab-df-container {\n",
              "      display:flex;\n",
              "      gap: 12px;\n",
              "    }\n",
              "\n",
              "    .colab-df-convert {\n",
              "      background-color: #E8F0FE;\n",
              "      border: none;\n",
              "      border-radius: 50%;\n",
              "      cursor: pointer;\n",
              "      display: none;\n",
              "      fill: #1967D2;\n",
              "      height: 32px;\n",
              "      padding: 0 0 0 0;\n",
              "      width: 32px;\n",
              "    }\n",
              "\n",
              "    .colab-df-convert:hover {\n",
              "      background-color: #E2EBFA;\n",
              "      box-shadow: 0px 1px 2px rgba(60, 64, 67, 0.3), 0px 1px 3px 1px rgba(60, 64, 67, 0.15);\n",
              "      fill: #174EA6;\n",
              "    }\n",
              "\n",
              "    .colab-df-buttons div {\n",
              "      margin-bottom: 4px;\n",
              "    }\n",
              "\n",
              "    [theme=dark] .colab-df-convert {\n",
              "      background-color: #3B4455;\n",
              "      fill: #D2E3FC;\n",
              "    }\n",
              "\n",
              "    [theme=dark] .colab-df-convert:hover {\n",
              "      background-color: #434B5C;\n",
              "      box-shadow: 0px 1px 3px 1px rgba(0, 0, 0, 0.15);\n",
              "      filter: drop-shadow(0px 1px 2px rgba(0, 0, 0, 0.3));\n",
              "      fill: #FFFFFF;\n",
              "    }\n",
              "  </style>\n",
              "\n",
              "    <script>\n",
              "      const buttonEl =\n",
              "        document.querySelector('#df-95aab938-a87e-4f6e-8c8e-3662d6b67330 button.colab-df-convert');\n",
              "      buttonEl.style.display =\n",
              "        google.colab.kernel.accessAllowed ? 'block' : 'none';\n",
              "\n",
              "      async function convertToInteractive(key) {\n",
              "        const element = document.querySelector('#df-95aab938-a87e-4f6e-8c8e-3662d6b67330');\n",
              "        const dataTable =\n",
              "          await google.colab.kernel.invokeFunction('convertToInteractive',\n",
              "                                                    [key], {});\n",
              "        if (!dataTable) return;\n",
              "\n",
              "        const docLinkHtml = 'Like what you see? Visit the ' +\n",
              "          '<a target=\"_blank\" href=https://colab.research.google.com/notebooks/data_table.ipynb>data table notebook</a>'\n",
              "          + ' to learn more about interactive tables.';\n",
              "        element.innerHTML = '';\n",
              "        dataTable['output_type'] = 'display_data';\n",
              "        await google.colab.output.renderOutput(dataTable, element);\n",
              "        const docLink = document.createElement('div');\n",
              "        docLink.innerHTML = docLinkHtml;\n",
              "        element.appendChild(docLink);\n",
              "      }\n",
              "    </script>\n",
              "  </div>\n",
              "\n",
              "\n",
              "<div id=\"df-032b9614-f3d7-4823-8554-b12cc74939b2\">\n",
              "  <button class=\"colab-df-quickchart\" onclick=\"quickchart('df-032b9614-f3d7-4823-8554-b12cc74939b2')\"\n",
              "            title=\"Suggest charts\"\n",
              "            style=\"display:none;\">\n",
              "\n",
              "<svg xmlns=\"http://www.w3.org/2000/svg\" height=\"24px\"viewBox=\"0 0 24 24\"\n",
              "     width=\"24px\">\n",
              "    <g>\n",
              "        <path d=\"M19 3H5c-1.1 0-2 .9-2 2v14c0 1.1.9 2 2 2h14c1.1 0 2-.9 2-2V5c0-1.1-.9-2-2-2zM9 17H7v-7h2v7zm4 0h-2V7h2v10zm4 0h-2v-4h2v4z\"/>\n",
              "    </g>\n",
              "</svg>\n",
              "  </button>\n",
              "\n",
              "<style>\n",
              "  .colab-df-quickchart {\n",
              "      --bg-color: #E8F0FE;\n",
              "      --fill-color: #1967D2;\n",
              "      --hover-bg-color: #E2EBFA;\n",
              "      --hover-fill-color: #174EA6;\n",
              "      --disabled-fill-color: #AAA;\n",
              "      --disabled-bg-color: #DDD;\n",
              "  }\n",
              "\n",
              "  [theme=dark] .colab-df-quickchart {\n",
              "      --bg-color: #3B4455;\n",
              "      --fill-color: #D2E3FC;\n",
              "      --hover-bg-color: #434B5C;\n",
              "      --hover-fill-color: #FFFFFF;\n",
              "      --disabled-bg-color: #3B4455;\n",
              "      --disabled-fill-color: #666;\n",
              "  }\n",
              "\n",
              "  .colab-df-quickchart {\n",
              "    background-color: var(--bg-color);\n",
              "    border: none;\n",
              "    border-radius: 50%;\n",
              "    cursor: pointer;\n",
              "    display: none;\n",
              "    fill: var(--fill-color);\n",
              "    height: 32px;\n",
              "    padding: 0;\n",
              "    width: 32px;\n",
              "  }\n",
              "\n",
              "  .colab-df-quickchart:hover {\n",
              "    background-color: var(--hover-bg-color);\n",
              "    box-shadow: 0 1px 2px rgba(60, 64, 67, 0.3), 0 1px 3px 1px rgba(60, 64, 67, 0.15);\n",
              "    fill: var(--button-hover-fill-color);\n",
              "  }\n",
              "\n",
              "  .colab-df-quickchart-complete:disabled,\n",
              "  .colab-df-quickchart-complete:disabled:hover {\n",
              "    background-color: var(--disabled-bg-color);\n",
              "    fill: var(--disabled-fill-color);\n",
              "    box-shadow: none;\n",
              "  }\n",
              "\n",
              "  .colab-df-spinner {\n",
              "    border: 2px solid var(--fill-color);\n",
              "    border-color: transparent;\n",
              "    border-bottom-color: var(--fill-color);\n",
              "    animation:\n",
              "      spin 1s steps(1) infinite;\n",
              "  }\n",
              "\n",
              "  @keyframes spin {\n",
              "    0% {\n",
              "      border-color: transparent;\n",
              "      border-bottom-color: var(--fill-color);\n",
              "      border-left-color: var(--fill-color);\n",
              "    }\n",
              "    20% {\n",
              "      border-color: transparent;\n",
              "      border-left-color: var(--fill-color);\n",
              "      border-top-color: var(--fill-color);\n",
              "    }\n",
              "    30% {\n",
              "      border-color: transparent;\n",
              "      border-left-color: var(--fill-color);\n",
              "      border-top-color: var(--fill-color);\n",
              "      border-right-color: var(--fill-color);\n",
              "    }\n",
              "    40% {\n",
              "      border-color: transparent;\n",
              "      border-right-color: var(--fill-color);\n",
              "      border-top-color: var(--fill-color);\n",
              "    }\n",
              "    60% {\n",
              "      border-color: transparent;\n",
              "      border-right-color: var(--fill-color);\n",
              "    }\n",
              "    80% {\n",
              "      border-color: transparent;\n",
              "      border-right-color: var(--fill-color);\n",
              "      border-bottom-color: var(--fill-color);\n",
              "    }\n",
              "    90% {\n",
              "      border-color: transparent;\n",
              "      border-bottom-color: var(--fill-color);\n",
              "    }\n",
              "  }\n",
              "</style>\n",
              "\n",
              "  <script>\n",
              "    async function quickchart(key) {\n",
              "      const quickchartButtonEl =\n",
              "        document.querySelector('#' + key + ' button');\n",
              "      quickchartButtonEl.disabled = true;  // To prevent multiple clicks.\n",
              "      quickchartButtonEl.classList.add('colab-df-spinner');\n",
              "      try {\n",
              "        const charts = await google.colab.kernel.invokeFunction(\n",
              "            'suggestCharts', [key], {});\n",
              "      } catch (error) {\n",
              "        console.error('Error during call to suggestCharts:', error);\n",
              "      }\n",
              "      quickchartButtonEl.classList.remove('colab-df-spinner');\n",
              "      quickchartButtonEl.classList.add('colab-df-quickchart-complete');\n",
              "    }\n",
              "    (() => {\n",
              "      let quickchartButtonEl =\n",
              "        document.querySelector('#df-032b9614-f3d7-4823-8554-b12cc74939b2 button');\n",
              "      quickchartButtonEl.style.display =\n",
              "        google.colab.kernel.accessAllowed ? 'block' : 'none';\n",
              "    })();\n",
              "  </script>\n",
              "</div>\n",
              "\n",
              "  <div id=\"id_2a90a8fd-e1c4-4895-a6af-54025f38178a\">\n",
              "    <style>\n",
              "      .colab-df-generate {\n",
              "        background-color: #E8F0FE;\n",
              "        border: none;\n",
              "        border-radius: 50%;\n",
              "        cursor: pointer;\n",
              "        display: none;\n",
              "        fill: #1967D2;\n",
              "        height: 32px;\n",
              "        padding: 0 0 0 0;\n",
              "        width: 32px;\n",
              "      }\n",
              "\n",
              "      .colab-df-generate:hover {\n",
              "        background-color: #E2EBFA;\n",
              "        box-shadow: 0px 1px 2px rgba(60, 64, 67, 0.3), 0px 1px 3px 1px rgba(60, 64, 67, 0.15);\n",
              "        fill: #174EA6;\n",
              "      }\n",
              "\n",
              "      [theme=dark] .colab-df-generate {\n",
              "        background-color: #3B4455;\n",
              "        fill: #D2E3FC;\n",
              "      }\n",
              "\n",
              "      [theme=dark] .colab-df-generate:hover {\n",
              "        background-color: #434B5C;\n",
              "        box-shadow: 0px 1px 3px 1px rgba(0, 0, 0, 0.15);\n",
              "        filter: drop-shadow(0px 1px 2px rgba(0, 0, 0, 0.3));\n",
              "        fill: #FFFFFF;\n",
              "      }\n",
              "    </style>\n",
              "    <button class=\"colab-df-generate\" onclick=\"generateWithVariable('balanced_df')\"\n",
              "            title=\"Generate code using this dataframe.\"\n",
              "            style=\"display:none;\">\n",
              "\n",
              "  <svg xmlns=\"http://www.w3.org/2000/svg\" height=\"24px\"viewBox=\"0 0 24 24\"\n",
              "       width=\"24px\">\n",
              "    <path d=\"M7,19H8.4L18.45,9,17,7.55,7,17.6ZM5,21V16.75L18.45,3.32a2,2,0,0,1,2.83,0l1.4,1.43a1.91,1.91,0,0,1,.58,1.4,1.91,1.91,0,0,1-.58,1.4L9.25,21ZM18.45,9,17,7.55Zm-12,3A5.31,5.31,0,0,0,4.9,8.1,5.31,5.31,0,0,0,1,6.5,5.31,5.31,0,0,0,4.9,4.9,5.31,5.31,0,0,0,6.5,1,5.31,5.31,0,0,0,8.1,4.9,5.31,5.31,0,0,0,12,6.5,5.46,5.46,0,0,0,6.5,12Z\"/>\n",
              "  </svg>\n",
              "    </button>\n",
              "    <script>\n",
              "      (() => {\n",
              "      const buttonEl =\n",
              "        document.querySelector('#id_2a90a8fd-e1c4-4895-a6af-54025f38178a button.colab-df-generate');\n",
              "      buttonEl.style.display =\n",
              "        google.colab.kernel.accessAllowed ? 'block' : 'none';\n",
              "\n",
              "      buttonEl.onclick = () => {\n",
              "        google.colab.notebook.generateWithVariable('balanced_df');\n",
              "      }\n",
              "      })();\n",
              "    </script>\n",
              "  </div>\n",
              "\n",
              "    </div>\n",
              "  </div>\n"
            ],
            "application/vnd.google.colaboratory.intrinsic+json": {
              "type": "dataframe",
              "variable_name": "balanced_df"
            }
          },
          "metadata": {},
          "execution_count": 7
        }
      ],
      "source": [
        "def map_sentiment(rating):\n",
        "    if rating > 3:\n",
        "        return 1  # Positive\n",
        "    elif rating < 3:\n",
        "        return 2  # Negative\n",
        "    else:\n",
        "        return 3  # Neutral\n",
        "\n",
        "balanced_df['sentiment'] = balanced_df['star_rating'].apply(map_sentiment)\n",
        "orig_df = balanced_df.copy()\n",
        "balanced_df"
      ]
    },
    {
      "cell_type": "code",
      "execution_count": 8,
      "metadata": {
        "id": "WRSKQ8SYCw1c",
        "colab": {
          "base_uri": "https://localhost:8080/"
        },
        "outputId": "3874092e-6a0a-4ebf-86e3-0ace5704eb2e"
      },
      "outputs": [
        {
          "output_type": "stream",
          "name": "stdout",
          "text": [
            "        star_rating  \\\n",
            "0                 1   \n",
            "1                 1   \n",
            "2                 1   \n",
            "3                 1   \n",
            "4                 1   \n",
            "...             ...   \n",
            "249995            5   \n",
            "249996            5   \n",
            "249997            5   \n",
            "249998            5   \n",
            "249999            5   \n",
            "\n",
            "                                                                                                                                                                                                                                                                                                                                                                                                                                                                                                                                                                                                                                                                                                                                                                                                                                                                                                                                                                                                                                                                       review_body  \\\n",
            "0                                                                                                                                                                                                                                                                                                                                                                                                                                                                                                                                                                                                                                                                                                                                                                                                                                                                                                                  This item was absolutely terrible. The ink barely showed out of my brother printer. I wanted to return it, but it was too late to return. Never buying again...   \n",
            "1                                                                                                                                                                                                                                                                                                                                                                                                                                                                                                                                                                                                                                                                                                                                                                                                                                                                                                                                                                                                                            out from the box there is a blank area when it print.   \n",
            "2       I read ALL the reviews Bad & Good and made my Choice, Wrong Choice!!! I really, Really Love Amazon.com But they really need to Use some of these Catridges for Theirself and Evaluate Them. my Printer was Printing Fine it just needed Ink so I looked these up on Amazon and took a Chance even with more than a few Negative Reviews. I sent some Samples of the Horrible attempt at printing in the Box With The easy return for Refund. Went to WalMart and picked up 2 combo packs of Kodak ink for my Two Printers and Sure Enough it went back to Printing Perfect, Both of the Printers. Well I guess the Fact that Kodak's Ink  is so Cheap that It has a tendantcy to push you to see just how cheap you can get it for. Please Folks Save your Time and Frustrations for more Important Troubles in your life, Don't Be Greedy. Buy the Kodak Ink you Won't be Dissapointed. Thanks Amazon, for Your easy Returns, because with out them I would really be up the Creek without a Paddle. I just can't say enough, \\\\\"How much I love Amazon.com\\\\\"    Thanks,   \n",
            "3                                                                                                                                                                                                                                                                                                                                                                                                                                                                                                                                                                                                                                                                                                                                                                                                                                                                            This came very sharp and it would not come apart. I would not recommend buying this because it cut my finger and it came made wrong. This broke in one day and I regret buying it. Waste of money. :(   \n",
            "4                                                                                                                                                                                                                                                                                                                                                                                                                                                                                                                                                                                                                                                                                                                                                                                                          I'd give this day timer zero stars if that was an option.  This calendar is 2 years old! It does say 2011 in the fine print - but being the sucker buyer I did not realize I'd have to verify if it was current - and I paid almost $20 for this old, useless calendar.   \n",
            "...                                                                                                                                                                                                                                                                                                                                                                                                                                                                                                                                                                                                                                                                                                                                                                                                                                                                                                                                                                                                                                                                            ...   \n",
            "249995                                                                                                                                                                                                                                                                                                                                                                                                                                                                                                                                                                                                                                                                                                                                                                                                                                                                                                                                                              LO QUE BUSCABA PARA MI OFICINA EN CASA MUY BUEN PRODUCTO LO RECOMIENDO PARA PERSONAS QUE POSEEN SUS OFICINAS A   \n",
            "249996                                                                                                                                                                                                                                                                               I have had Panasonic 3 phones for a long time.  Recently I had no phones, internet, or security system.  I decided to start with new phones.  After reading all of the reviews I decided this was the phone system I needed.  They came very fast.  Still no phone.  The phone company came out and found a broken cable leading into my house.  Once this was fixed I instantly had phones, internet, & security system.  I wish I had ordered a four phone system as I found another area I would like a phone.  So, checked with Amazon and instantly found one.  It arrived before scheduled delivery date.  I love the \\\\\"talking\\\\\" feature.  I do not bother to answer my phone when it tells me \\\\\"out of area\\\\\".  I am sure my older phones still work!*  Love Panasonic & Amazon!.   \n",
            "249997                                                                                                                                                                                                                                                                                                                                                                                                                                                                                                                                                                                                                                                                                                                                                                                                                                                                                                                                                                  These are great pens to draw with and I like the softness of the brush side and the fine tip on the other.   \n",
            "249998                                                                                                                                                                                                                                                                                                                                                                                                                                                                                                                                                                                                                                                              I do martial arts, Jiu-Jitsu and I like to take notes and this book is sturdy and it can take a beating in the room when I am throwing it around after the instructional to the side before drilling.  It is great for taking notes in general and good solid book.  You can definitely defend yourself with this thing.  If this book can handle my roughness it can handle your basic needs, will buy again.   \n",
            "249999                                                                                                                                                                                                                                                                                                                                                                                                                                                                                                                                                                                                                                                                                                                                                                                                                                                                                                                                                                                                           LoVe it.  Very good quality.  Love having both colors in my hand.   \n",
            "\n",
            "        sentiment  \n",
            "0               2  \n",
            "1               2  \n",
            "2               2  \n",
            "3               2  \n",
            "4               2  \n",
            "...           ...  \n",
            "249995          1  \n",
            "249996          1  \n",
            "249997          1  \n",
            "249998          1  \n",
            "249999          1  \n",
            "\n",
            "[250000 rows x 3 columns]\n"
          ]
        }
      ],
      "source": [
        "#train_df, test_df = train_test_split(balanced_df, test_size=0.2, stratify=balanced_df['sentiment'], random_state=42)\n",
        "print(orig_df)"
      ]
    },
    {
      "cell_type": "code",
      "execution_count": 9,
      "metadata": {
        "id": "mKJiwEj1Cwy8",
        "colab": {
          "base_uri": "https://localhost:8080/"
        },
        "outputId": "baa6a976-4fa4-43c1-b086-934439ec1455"
      },
      "outputs": [
        {
          "output_type": "stream",
          "name": "stdout",
          "text": [
            "Requirement already satisfied: gensim in /usr/local/lib/python3.11/dist-packages (4.3.3)\n",
            "Requirement already satisfied: numpy<2.0,>=1.18.5 in /usr/local/lib/python3.11/dist-packages (from gensim) (1.26.4)\n",
            "Requirement already satisfied: scipy<1.14.0,>=1.7.0 in /usr/local/lib/python3.11/dist-packages (from gensim) (1.13.1)\n",
            "Requirement already satisfied: smart-open>=1.8.1 in /usr/local/lib/python3.11/dist-packages (from gensim) (7.1.0)\n",
            "Requirement already satisfied: wrapt in /usr/local/lib/python3.11/dist-packages (from smart-open>=1.8.1->gensim) (1.17.2)\n"
          ]
        }
      ],
      "source": [
        "pip install gensim"
      ]
    },
    {
      "cell_type": "code",
      "execution_count": 10,
      "metadata": {
        "id": "_G0iDHFtCwwk",
        "colab": {
          "base_uri": "https://localhost:8080/"
        },
        "outputId": "e43520f0-d13b-4687-8b39-aac1f838d8e3"
      },
      "outputs": [
        {
          "output_type": "stream",
          "name": "stderr",
          "text": [
            "[nltk_data] Downloading package punkt to /root/nltk_data...\n",
            "[nltk_data]   Unzipping tokenizers/punkt.zip.\n",
            "[nltk_data] Downloading package punkt to /root/nltk_data...\n",
            "[nltk_data]   Package punkt is already up-to-date!\n"
          ]
        },
        {
          "output_type": "execute_result",
          "data": {
            "text/plain": [
              "True"
            ]
          },
          "metadata": {},
          "execution_count": 10
        }
      ],
      "source": [
        "import pandas as pd\n",
        "import gensim\n",
        "from gensim.models import Word2Vec, KeyedVectors\n",
        "from nltk.tokenize import word_tokenize\n",
        "import numpy as np\n",
        "import nltk\n",
        "\n",
        "# Download NLTK tokenizer\n",
        "nltk.download('punkt')\n",
        "import gensim.downloader as api\n",
        "import pandas as pd\n",
        "import numpy as np\n",
        "from nltk.tokenize import word_tokenize\n",
        "import nltk\n",
        "\n",
        "# Download tokenizer\n",
        "nltk.download('punkt')\n"
      ]
    },
    {
      "cell_type": "code",
      "execution_count": 11,
      "metadata": {
        "id": "I0kCvpZOCwt_",
        "colab": {
          "base_uri": "https://localhost:8080/"
        },
        "outputId": "11e192c4-eb8d-4144-ce88-0f9fe4f23c54"
      },
      "outputs": [
        {
          "output_type": "stream",
          "name": "stdout",
          "text": [
            "[==================================================] 100.0% 1662.8/1662.8MB downloaded\n"
          ]
        }
      ],
      "source": [
        "# Load pretrained Word2Vec model (Google News 300)\n",
        "wv = api.load(\"word2vec-google-news-300\")\n",
        "\n",
        "# Check the vector representation of a word\n",
        "#print(wv[\"excellent\"])  # A 300-dimensional vector"
      ]
    },
    {
      "cell_type": "code",
      "execution_count": 12,
      "metadata": {
        "id": "LiijCdl5Cwrw",
        "colab": {
          "base_uri": "https://localhost:8080/"
        },
        "outputId": "7ce5e748-8073-4d40-aa25-b1a5123972ab"
      },
      "outputs": [
        {
          "output_type": "stream",
          "name": "stdout",
          "text": [
            "King - Man + Woman = queen\n"
          ]
        }
      ],
      "source": [
        "#check semantic similarities\n",
        "result = wv.most_similar(positive=[\"king\", \"woman\"], negative=[\"man\"], topn=1)\n",
        "print(\"King - Man + Woman =\", result[0][0])  # Expected output: 'queen'"
      ]
    },
    {
      "cell_type": "code",
      "execution_count": 13,
      "metadata": {
        "id": "9m5V4gh6CwpG",
        "colab": {
          "base_uri": "https://localhost:8080/"
        },
        "outputId": "0bada5fc-8551-4a19-e508-4d59b3333e6b"
      },
      "outputs": [
        {
          "output_type": "stream",
          "name": "stdout",
          "text": [
            "Similarity between 'excellent' and 'outstanding': 0.55674857\n"
          ]
        }
      ],
      "source": [
        "#similarities between words\n",
        "similarity = wv.similarity(\"excellent\", \"outstanding\")\n",
        "print(\"Similarity between 'excellent' and 'outstanding':\", similarity)"
      ]
    },
    {
      "cell_type": "code",
      "execution_count": 14,
      "metadata": {
        "id": "OELIuvwtfvg8",
        "colab": {
          "base_uri": "https://localhost:8080/"
        },
        "outputId": "5585288a-f719-43a5-8d11-4f83e66897f6"
      },
      "outputs": [
        {
          "output_type": "stream",
          "name": "stderr",
          "text": [
            "[nltk_data] Downloading package punkt_tab to /root/nltk_data...\n",
            "[nltk_data]   Unzipping tokenizers/punkt_tab.zip.\n"
          ]
        },
        {
          "output_type": "stream",
          "name": "stdout",
          "text": [
            "0                                                                                                                                                                                                                                                                                                                                                                                                                [This, item, was, absolutely, terrible, ., The, ink, barely, showed, out, of, my, brother, printer, ., I, wanted, to, return, it, ,, but, it, was, too, late, to, return, ., Never, buying, again, ...]\n",
            "1                                                                                                                                                                                                                                                                                                                                                                                                                                                                                                                                                   [out, from, the, box, there, is, a, blank, area, when, it, print, .]\n",
            "2    [I, read, ALL, the, reviews, Bad, &, Good, and, made, my, Choice, ,, Wrong, Choice, !, !, !, I, really, ,, Really, Love, Amazon.com, But, they, really, need, to, Use, some, of, these, Catridges, for, Theirself, and, Evaluate, Them, ., my, Printer, was, Printing, Fine, it, just, needed, Ink, so, I, looked, these, up, on, Amazon, and, took, a, Chance, even, with, more, than, a, few, Negative, Reviews, ., I, sent, some, Samples, of, the, Horrible, attempt, at, printing, in, the, Box, With, The, easy, return, for, Refund, ., Went, to, WalMart, and, picked, up, 2, combo, packs, of, Kodak, ...]\n",
            "3                                                                                                                                                                                                                                                                                                                                                               [This, came, very, sharp, and, it, would, not, come, apart, ., I, would, not, recommend, buying, this, because, it, cut, my, finger, and, it, came, made, wrong, ., This, broke, in, one, day, and, I, regret, buying, it, ., Waste, of, money, ., :, (]\n",
            "4                                                                                                                                                                                                                                                                           [I, 'd, give, this, day, timer, zero, stars, if, that, was, an, option, ., This, calendar, is, 2, years, old, !, It, does, say, 2011, in, the, fine, print, -, but, being, the, sucker, buyer, I, did, not, realize, I, 'd, have, to, verify, if, it, was, current, -, and, I, paid, almost, $, 20, for, this, old, ,, useless, calendar, .]\n",
            "Name: tokens, dtype: object\n"
          ]
        }
      ],
      "source": [
        "import nltk\n",
        "nltk.download('punkt_tab')\n",
        "#tokenize your dataset\n",
        "# Tokenize the review text\n",
        "balanced_df[\"tokens\"] = balanced_df[\"review_body\"].astype(str).apply(word_tokenize)\n",
        "# Show some tokenized reviews\n",
        "print(balanced_df[\"tokens\"].head())\n"
      ]
    },
    {
      "cell_type": "code",
      "execution_count": 15,
      "metadata": {
        "id": "obYfpuUbfvey"
      },
      "outputs": [],
      "source": [
        "#converting to word embeddings\n",
        "'''\n",
        "def get_word2vec_embedding(tokens, model):\n",
        "    vectors = [model[word] for word in tokens if word in model]\n",
        "    return np.mean(vectors, axis=0) if vectors else np.zeros(300)  # 300D vector\n",
        "\n",
        "# Applying to dataset using the pretrained Word2Vec model\n",
        "balanced_df[\"embedding\"] = balanced_df[\"tokens\"].apply(lambda x: get_word2vec_embedding(x, wv))'''\n",
        "import gensim.downloader as api\n",
        "import numpy as np\n",
        "import pandas as pd\n",
        "\n",
        "# Load the pretrained Word2Vec model\n",
        "wv = api.load(\"word2vec-google-news-300\")\n",
        "\n",
        "# Function to get embeddings for each word in a review\n",
        "def get_word_embeddings(tokens, model):\n",
        "    return [model[word] for word in tokens if word in model]  # List of word embeddings\n",
        "\n",
        "# Load dataset (assume it's preprocessed and tokenized)\n",
        "#df = pd.read_pickle(\"amazon_reviews.pkl\")  # Replace with actual dataset file\n",
        "\n",
        "# Apply function to dataset\n",
        "balanced_df[\"word_embeddings\"] = balanced_df[\"tokens\"].apply(lambda x: get_word_embeddings(x, wv))"
      ]
    },
    {
      "cell_type": "markdown",
      "metadata": {
        "id": "YxQtvu02r9A6"
      },
      "source": [
        "###(b) Training Word2Vec model on our own datset"
      ]
    },
    {
      "cell_type": "code",
      "execution_count": 16,
      "metadata": {
        "id": "CpTPVXy8fvZ9",
        "colab": {
          "base_uri": "https://localhost:8080/"
        },
        "outputId": "612f3f36-b907-4ba0-90f9-14f4cf5d9200"
      },
      "outputs": [
        {
          "output_type": "stream",
          "name": "stdout",
          "text": [
            "[('outstanding', 0.8472867012023926), ('exceptional', 0.8025180101394653), ('superb', 0.7414510250091553), ('terrific', 0.73366379737854), ('incredible', 0.6933849453926086), ('fantastic', 0.6930072903633118), ('amazing', 0.6863557696342468), ('wonderful', 0.6575879454612732), ('great', 0.6520962715148926), ('good', 0.6445724368095398)]\n"
          ]
        }
      ],
      "source": [
        "# Training my custom Word2Vec model\n",
        "custom_w2v = Word2Vec(\n",
        "    sentences=balanced_df[\"tokens\"],  # List of tokenized reviews\n",
        "    vector_size=300,         # Word embedding size\n",
        "    window=11,               # Context window size\n",
        "    min_count=10,            # Minimum word frequency threshold\n",
        "    workers=4                # Use multiple CPU cores for efficiency\n",
        ")\n",
        "\n",
        "# Save the trained model\n",
        "custom_w2v.save(\"custom_word2vec.model\")\n",
        "\n",
        "# Example: Check words most similar to \"excellent\"\n",
        "print(custom_w2v.wv.most_similar(\"excellent\"))"
      ]
    },
    {
      "cell_type": "code",
      "execution_count": 17,
      "metadata": {
        "id": "1jBH2L64fvXh",
        "colab": {
          "base_uri": "https://localhost:8080/"
        },
        "outputId": "759d96b6-64c6-4744-f6ca-64b5f8d57f9e"
      },
      "outputs": [
        {
          "output_type": "stream",
          "name": "stdout",
          "text": [
            "Custom Word2Vec: King - Man + Woman = queen\n"
          ]
        }
      ],
      "source": [
        "result_custom = custom_w2v.wv.most_similar(positive=[\"king\", \"woman\"], negative=[\"man\"], topn=1)\n",
        "print(\"Custom Word2Vec: King - Man + Woman =\", result_custom[0][0])"
      ]
    },
    {
      "cell_type": "code",
      "execution_count": 18,
      "metadata": {
        "id": "UJzAAk5wfvVR",
        "colab": {
          "base_uri": "https://localhost:8080/"
        },
        "outputId": "e413ee8b-bce2-4eca-ca75-8014827d7dcd"
      },
      "outputs": [
        {
          "output_type": "stream",
          "name": "stdout",
          "text": [
            "Custom Word2Vec similarity (excellent vs outstanding): 0.84728676\n"
          ]
        }
      ],
      "source": [
        "similarity_custom = custom_w2v.wv.similarity(\"excellent\", \"outstanding\")\n",
        "print(\"Custom Word2Vec similarity (excellent vs outstanding):\", similarity_custom)"
      ]
    },
    {
      "cell_type": "markdown",
      "metadata": {
        "id": "ovsBFSX37GBj"
      },
      "source": [
        "**Comparison based on King - Man + Woman on above 2 models :**\n",
        "\n",
        "Google News Word2Vec : Returns \"Queen\"\n",
        "\n",
        "Custom Word2Vec (Amazon Reviews) : Does not return \"Queen\" as the dataset may lacks historical context.\n",
        "\n",
        "\n",
        "**Comparison based on Excellent vs Outstanding :**\n",
        "\n",
        "\n",
        "Google News Word2Vec : High similarity (~0.9)\n",
        "\n",
        "\n",
        "Custom Word2Vec (Amazon Reviews) :0.86168975 ( lower due to limited data.)\n",
        "\n",
        "\n",
        "**Based on Context Understanding**\n",
        "\n",
        "Google News Word2Vec : General knowledge\tBiased towards Amazon review words.\n",
        "\n",
        "Custom Word2Vec (Amazon Reviews): Biased towards Amazon review words.\n",
        "\n",
        "**Conclusion:-**\n",
        "\n",
        "Pretrained Word2Vec (Google News 300) performs better for general language tasks\n",
        "\n",
        "It was trained on a large-scale dataset (Google News corpus).\n",
        "It encodes rich semantic relationships between words.\n",
        "It correctly captures King - Man + Woman = Queen.\n",
        "\n",
        "Custom Word2Vec is more domain-specific (Amazon Reviews)\n",
        "\n",
        "It is trained on customer reviews, so it understands sentiment-related words well.\n",
        "But it lacks general world knowledge, making it weaker for analogy tasks.\n",
        "Example: It may not return \"Queen\" for King - Man + Woman, but it might capture sentiment-related similarities better (e.g., \"great\" ∼ \"awesome\")\n",
        "\n",
        "**Best Choice?**\n",
        "\n",
        "If we need general word understanding, use then pretrained Word2Vec.\n",
        "\n",
        "If we need domain-specific representations (Amazon reviews, legal, medical, etc.),  our own custom trained Word2V on reviews works better"
      ]
    },
    {
      "cell_type": "code",
      "execution_count": 19,
      "metadata": {
        "id": "qvYK9d3c7noK",
        "colab": {
          "base_uri": "https://localhost:8080/"
        },
        "outputId": "883349b7-17ec-4653-b50f-0053361d7c08"
      },
      "outputs": [
        {
          "output_type": "stream",
          "name": "stdout",
          "text": [
            "[('outstanding', 0.8472867012023926), ('exceptional', 0.8025180101394653), ('superb', 0.7414510250091553), ('terrific', 0.73366379737854), ('incredible', 0.6933849453926086), ('fantastic', 0.6930072903633118), ('amazing', 0.6863557696342468), ('wonderful', 0.6575879454612732), ('great', 0.6520962715148926), ('good', 0.6445724368095398)]\n"
          ]
        }
      ],
      "source": [
        "print(custom_w2v.wv.most_similar(\"excellent\"))"
      ]
    },
    {
      "cell_type": "markdown",
      "source": [
        "### 3."
      ],
      "metadata": {
        "id": "bpSzGTecPXK-"
      }
    },
    {
      "cell_type": "markdown",
      "source": [
        "### Data cleaning and Data Preprocessing"
      ],
      "metadata": {
        "id": "p4VaoX1DPss4"
      }
    },
    {
      "cell_type": "code",
      "source": [
        "contractions_dict = {\n",
        "    \"aren't\": \"are not\",\n",
        "    \"can't\": \"cannot\",\n",
        "    \"couldn't\": \"could not\",\n",
        "    \"didn't\": \"did not\",\n",
        "    \"doesn't\": \"does not\",\n",
        "    \"don't\": \"do not\",\n",
        "    \"hadn't\": \"had not\",\n",
        "    \"hasn't\": \"has not\",\n",
        "    \"haven't\": \"have not\",\n",
        "    \"he's\": \"he is\",\n",
        "    \"how's\": \"how is\",\n",
        "    \"i'd\": \"I would\",\n",
        "    \"i'll\": \"I will\",\n",
        "    \"i'm\": \"I am\",\n",
        "    \"i've\": \"I have\",\n",
        "    \"isn't\": \"is not\",\n",
        "    \"it's\": \"it is\",\n",
        "    \"let's\": \"let us\",\n",
        "    \"mightn't\": \"might not\",\n",
        "    \"mustn't\": \"must not\",\n",
        "    \"shan't\": \"shall not\",\n",
        "    \"she's\": \"she is\",\n",
        "    \"shouldn't\": \"should not\",\n",
        "    \"that's\": \"that is\",\n",
        "    \"there's\": \"there is\",\n",
        "    \"they'd\": \"they would\",\n",
        "    \"they'll\": \"they will\",\n",
        "    \"they're\": \"they are\",\n",
        "    \"they've\": \"they have\",\n",
        "    \"we'd\": \"we would\",\n",
        "    \"we're\": \"we are\",\n",
        "    \"weren't\": \"were not\",\n",
        "    \"what's\": \"what is\",\n",
        "    \"where's\": \"where is\",\n",
        "    \"who's\": \"who is\",\n",
        "    \"won't\": \"will not\",\n",
        "    \"wouldn't\": \"would not\",\n",
        "    \"you'd\": \"you would\",\n",
        "    \"you'll\": \"you will\",\n",
        "    \"you're\": \"you are\",\n",
        "    \"you've\": \"you have\"\n",
        "}"
      ],
      "metadata": {
        "id": "mbbASRplQuqg"
      },
      "execution_count": 20,
      "outputs": []
    },
    {
      "cell_type": "code",
      "source": [
        "df=orig_df.copy()\n",
        "df"
      ],
      "metadata": {
        "colab": {
          "base_uri": "https://localhost:8080/",
          "height": 597
        },
        "id": "aJBwuBCjxS4c",
        "outputId": "4899d5f1-2f79-4241-ed63-2229aba45806"
      },
      "execution_count": 21,
      "outputs": [
        {
          "output_type": "execute_result",
          "data": {
            "text/plain": [
              "        star_rating  \\\n",
              "0                 1   \n",
              "1                 1   \n",
              "2                 1   \n",
              "3                 1   \n",
              "4                 1   \n",
              "...             ...   \n",
              "249995            5   \n",
              "249996            5   \n",
              "249997            5   \n",
              "249998            5   \n",
              "249999            5   \n",
              "\n",
              "                                                                                                                                                                                                                                                                                                                                                                                                                                                                                                                                                                                                                                                                                                                                                                                                                                                                                                                                                                                                                                                                       review_body  \\\n",
              "0                                                                                                                                                                                                                                                                                                                                                                                                                                                                                                                                                                                                                                                                                                                                                                                                                                                                                                                  This item was absolutely terrible. The ink barely showed out of my brother printer. I wanted to return it, but it was too late to return. Never buying again...   \n",
              "1                                                                                                                                                                                                                                                                                                                                                                                                                                                                                                                                                                                                                                                                                                                                                                                                                                                                                                                                                                                                                            out from the box there is a blank area when it print.   \n",
              "2       I read ALL the reviews Bad & Good and made my Choice, Wrong Choice!!! I really, Really Love Amazon.com But they really need to Use some of these Catridges for Theirself and Evaluate Them. my Printer was Printing Fine it just needed Ink so I looked these up on Amazon and took a Chance even with more than a few Negative Reviews. I sent some Samples of the Horrible attempt at printing in the Box With The easy return for Refund. Went to WalMart and picked up 2 combo packs of Kodak ink for my Two Printers and Sure Enough it went back to Printing Perfect, Both of the Printers. Well I guess the Fact that Kodak's Ink  is so Cheap that It has a tendantcy to push you to see just how cheap you can get it for. Please Folks Save your Time and Frustrations for more Important Troubles in your life, Don't Be Greedy. Buy the Kodak Ink you Won't be Dissapointed. Thanks Amazon, for Your easy Returns, because with out them I would really be up the Creek without a Paddle. I just can't say enough, \\\\\"How much I love Amazon.com\\\\\"    Thanks,   \n",
              "3                                                                                                                                                                                                                                                                                                                                                                                                                                                                                                                                                                                                                                                                                                                                                                                                                                                                            This came very sharp and it would not come apart. I would not recommend buying this because it cut my finger and it came made wrong. This broke in one day and I regret buying it. Waste of money. :(   \n",
              "4                                                                                                                                                                                                                                                                                                                                                                                                                                                                                                                                                                                                                                                                                                                                                                                                          I'd give this day timer zero stars if that was an option.  This calendar is 2 years old! It does say 2011 in the fine print - but being the sucker buyer I did not realize I'd have to verify if it was current - and I paid almost $20 for this old, useless calendar.   \n",
              "...                                                                                                                                                                                                                                                                                                                                                                                                                                                                                                                                                                                                                                                                                                                                                                                                                                                                                                                                                                                                                                                                            ...   \n",
              "249995                                                                                                                                                                                                                                                                                                                                                                                                                                                                                                                                                                                                                                                                                                                                                                                                                                                                                                                                                              LO QUE BUSCABA PARA MI OFICINA EN CASA MUY BUEN PRODUCTO LO RECOMIENDO PARA PERSONAS QUE POSEEN SUS OFICINAS A   \n",
              "249996                                                                                                                                                                                                                                                                               I have had Panasonic 3 phones for a long time.  Recently I had no phones, internet, or security system.  I decided to start with new phones.  After reading all of the reviews I decided this was the phone system I needed.  They came very fast.  Still no phone.  The phone company came out and found a broken cable leading into my house.  Once this was fixed I instantly had phones, internet, & security system.  I wish I had ordered a four phone system as I found another area I would like a phone.  So, checked with Amazon and instantly found one.  It arrived before scheduled delivery date.  I love the \\\\\"talking\\\\\" feature.  I do not bother to answer my phone when it tells me \\\\\"out of area\\\\\".  I am sure my older phones still work!*  Love Panasonic & Amazon!.   \n",
              "249997                                                                                                                                                                                                                                                                                                                                                                                                                                                                                                                                                                                                                                                                                                                                                                                                                                                                                                                                                                  These are great pens to draw with and I like the softness of the brush side and the fine tip on the other.   \n",
              "249998                                                                                                                                                                                                                                                                                                                                                                                                                                                                                                                                                                                                                                                              I do martial arts, Jiu-Jitsu and I like to take notes and this book is sturdy and it can take a beating in the room when I am throwing it around after the instructional to the side before drilling.  It is great for taking notes in general and good solid book.  You can definitely defend yourself with this thing.  If this book can handle my roughness it can handle your basic needs, will buy again.   \n",
              "249999                                                                                                                                                                                                                                                                                                                                                                                                                                                                                                                                                                                                                                                                                                                                                                                                                                                                                                                                                                                                           LoVe it.  Very good quality.  Love having both colors in my hand.   \n",
              "\n",
              "        sentiment  \n",
              "0               2  \n",
              "1               2  \n",
              "2               2  \n",
              "3               2  \n",
              "4               2  \n",
              "...           ...  \n",
              "249995          1  \n",
              "249996          1  \n",
              "249997          1  \n",
              "249998          1  \n",
              "249999          1  \n",
              "\n",
              "[250000 rows x 3 columns]"
            ],
            "text/html": [
              "\n",
              "  <div id=\"df-06ec68f6-cd16-456c-aa8f-ffb73b2c1087\" class=\"colab-df-container\">\n",
              "    <div>\n",
              "<style scoped>\n",
              "    .dataframe tbody tr th:only-of-type {\n",
              "        vertical-align: middle;\n",
              "    }\n",
              "\n",
              "    .dataframe tbody tr th {\n",
              "        vertical-align: top;\n",
              "    }\n",
              "\n",
              "    .dataframe thead th {\n",
              "        text-align: right;\n",
              "    }\n",
              "</style>\n",
              "<table border=\"1\" class=\"dataframe\">\n",
              "  <thead>\n",
              "    <tr style=\"text-align: right;\">\n",
              "      <th></th>\n",
              "      <th>star_rating</th>\n",
              "      <th>review_body</th>\n",
              "      <th>sentiment</th>\n",
              "    </tr>\n",
              "  </thead>\n",
              "  <tbody>\n",
              "    <tr>\n",
              "      <th>0</th>\n",
              "      <td>1</td>\n",
              "      <td>This item was absolutely terrible. The ink barely showed out of my brother printer. I wanted to return it, but it was too late to return. Never buying again...</td>\n",
              "      <td>2</td>\n",
              "    </tr>\n",
              "    <tr>\n",
              "      <th>1</th>\n",
              "      <td>1</td>\n",
              "      <td>out from the box there is a blank area when it print.</td>\n",
              "      <td>2</td>\n",
              "    </tr>\n",
              "    <tr>\n",
              "      <th>2</th>\n",
              "      <td>1</td>\n",
              "      <td>I read ALL the reviews Bad &amp; Good and made my Choice, Wrong Choice!!! I really, Really Love Amazon.com But they really need to Use some of these Catridges for Theirself and Evaluate Them. my Printer was Printing Fine it just needed Ink so I looked these up on Amazon and took a Chance even with more than a few Negative Reviews. I sent some Samples of the Horrible attempt at printing in the Box With The easy return for Refund. Went to WalMart and picked up 2 combo packs of Kodak ink for my Two Printers and Sure Enough it went back to Printing Perfect, Both of the Printers. Well I guess the Fact that Kodak's Ink  is so Cheap that It has a tendantcy to push you to see just how cheap you can get it for. Please Folks Save your Time and Frustrations for more Important Troubles in your life, Don't Be Greedy. Buy the Kodak Ink you Won't be Dissapointed. Thanks Amazon, for Your easy Returns, because with out them I would really be up the Creek without a Paddle. I just can't say enough, \\\\\"How much I love Amazon.com\\\\\"    Thanks,</td>\n",
              "      <td>2</td>\n",
              "    </tr>\n",
              "    <tr>\n",
              "      <th>3</th>\n",
              "      <td>1</td>\n",
              "      <td>This came very sharp and it would not come apart. I would not recommend buying this because it cut my finger and it came made wrong. This broke in one day and I regret buying it. Waste of money. :(</td>\n",
              "      <td>2</td>\n",
              "    </tr>\n",
              "    <tr>\n",
              "      <th>4</th>\n",
              "      <td>1</td>\n",
              "      <td>I'd give this day timer zero stars if that was an option.  This calendar is 2 years old! It does say 2011 in the fine print - but being the sucker buyer I did not realize I'd have to verify if it was current - and I paid almost $20 for this old, useless calendar.</td>\n",
              "      <td>2</td>\n",
              "    </tr>\n",
              "    <tr>\n",
              "      <th>...</th>\n",
              "      <td>...</td>\n",
              "      <td>...</td>\n",
              "      <td>...</td>\n",
              "    </tr>\n",
              "    <tr>\n",
              "      <th>249995</th>\n",
              "      <td>5</td>\n",
              "      <td>LO QUE BUSCABA PARA MI OFICINA EN CASA MUY BUEN PRODUCTO LO RECOMIENDO PARA PERSONAS QUE POSEEN SUS OFICINAS A</td>\n",
              "      <td>1</td>\n",
              "    </tr>\n",
              "    <tr>\n",
              "      <th>249996</th>\n",
              "      <td>5</td>\n",
              "      <td>I have had Panasonic 3 phones for a long time.  Recently I had no phones, internet, or security system.  I decided to start with new phones.  After reading all of the reviews I decided this was the phone system I needed.  They came very fast.  Still no phone.  The phone company came out and found a broken cable leading into my house.  Once this was fixed I instantly had phones, internet, &amp; security system.  I wish I had ordered a four phone system as I found another area I would like a phone.  So, checked with Amazon and instantly found one.  It arrived before scheduled delivery date.  I love the \\\\\"talking\\\\\" feature.  I do not bother to answer my phone when it tells me \\\\\"out of area\\\\\".  I am sure my older phones still work!*  Love Panasonic &amp; Amazon!.</td>\n",
              "      <td>1</td>\n",
              "    </tr>\n",
              "    <tr>\n",
              "      <th>249997</th>\n",
              "      <td>5</td>\n",
              "      <td>These are great pens to draw with and I like the softness of the brush side and the fine tip on the other.</td>\n",
              "      <td>1</td>\n",
              "    </tr>\n",
              "    <tr>\n",
              "      <th>249998</th>\n",
              "      <td>5</td>\n",
              "      <td>I do martial arts, Jiu-Jitsu and I like to take notes and this book is sturdy and it can take a beating in the room when I am throwing it around after the instructional to the side before drilling.  It is great for taking notes in general and good solid book.  You can definitely defend yourself with this thing.  If this book can handle my roughness it can handle your basic needs, will buy again.</td>\n",
              "      <td>1</td>\n",
              "    </tr>\n",
              "    <tr>\n",
              "      <th>249999</th>\n",
              "      <td>5</td>\n",
              "      <td>LoVe it.  Very good quality.  Love having both colors in my hand.</td>\n",
              "      <td>1</td>\n",
              "    </tr>\n",
              "  </tbody>\n",
              "</table>\n",
              "<p>250000 rows × 3 columns</p>\n",
              "</div>\n",
              "    <div class=\"colab-df-buttons\">\n",
              "\n",
              "  <div class=\"colab-df-container\">\n",
              "    <button class=\"colab-df-convert\" onclick=\"convertToInteractive('df-06ec68f6-cd16-456c-aa8f-ffb73b2c1087')\"\n",
              "            title=\"Convert this dataframe to an interactive table.\"\n",
              "            style=\"display:none;\">\n",
              "\n",
              "  <svg xmlns=\"http://www.w3.org/2000/svg\" height=\"24px\" viewBox=\"0 -960 960 960\">\n",
              "    <path d=\"M120-120v-720h720v720H120Zm60-500h600v-160H180v160Zm220 220h160v-160H400v160Zm0 220h160v-160H400v160ZM180-400h160v-160H180v160Zm440 0h160v-160H620v160ZM180-180h160v-160H180v160Zm440 0h160v-160H620v160Z\"/>\n",
              "  </svg>\n",
              "    </button>\n",
              "\n",
              "  <style>\n",
              "    .colab-df-container {\n",
              "      display:flex;\n",
              "      gap: 12px;\n",
              "    }\n",
              "\n",
              "    .colab-df-convert {\n",
              "      background-color: #E8F0FE;\n",
              "      border: none;\n",
              "      border-radius: 50%;\n",
              "      cursor: pointer;\n",
              "      display: none;\n",
              "      fill: #1967D2;\n",
              "      height: 32px;\n",
              "      padding: 0 0 0 0;\n",
              "      width: 32px;\n",
              "    }\n",
              "\n",
              "    .colab-df-convert:hover {\n",
              "      background-color: #E2EBFA;\n",
              "      box-shadow: 0px 1px 2px rgba(60, 64, 67, 0.3), 0px 1px 3px 1px rgba(60, 64, 67, 0.15);\n",
              "      fill: #174EA6;\n",
              "    }\n",
              "\n",
              "    .colab-df-buttons div {\n",
              "      margin-bottom: 4px;\n",
              "    }\n",
              "\n",
              "    [theme=dark] .colab-df-convert {\n",
              "      background-color: #3B4455;\n",
              "      fill: #D2E3FC;\n",
              "    }\n",
              "\n",
              "    [theme=dark] .colab-df-convert:hover {\n",
              "      background-color: #434B5C;\n",
              "      box-shadow: 0px 1px 3px 1px rgba(0, 0, 0, 0.15);\n",
              "      filter: drop-shadow(0px 1px 2px rgba(0, 0, 0, 0.3));\n",
              "      fill: #FFFFFF;\n",
              "    }\n",
              "  </style>\n",
              "\n",
              "    <script>\n",
              "      const buttonEl =\n",
              "        document.querySelector('#df-06ec68f6-cd16-456c-aa8f-ffb73b2c1087 button.colab-df-convert');\n",
              "      buttonEl.style.display =\n",
              "        google.colab.kernel.accessAllowed ? 'block' : 'none';\n",
              "\n",
              "      async function convertToInteractive(key) {\n",
              "        const element = document.querySelector('#df-06ec68f6-cd16-456c-aa8f-ffb73b2c1087');\n",
              "        const dataTable =\n",
              "          await google.colab.kernel.invokeFunction('convertToInteractive',\n",
              "                                                    [key], {});\n",
              "        if (!dataTable) return;\n",
              "\n",
              "        const docLinkHtml = 'Like what you see? Visit the ' +\n",
              "          '<a target=\"_blank\" href=https://colab.research.google.com/notebooks/data_table.ipynb>data table notebook</a>'\n",
              "          + ' to learn more about interactive tables.';\n",
              "        element.innerHTML = '';\n",
              "        dataTable['output_type'] = 'display_data';\n",
              "        await google.colab.output.renderOutput(dataTable, element);\n",
              "        const docLink = document.createElement('div');\n",
              "        docLink.innerHTML = docLinkHtml;\n",
              "        element.appendChild(docLink);\n",
              "      }\n",
              "    </script>\n",
              "  </div>\n",
              "\n",
              "\n",
              "<div id=\"df-d5ad7d90-3dd8-4063-a205-43c581ad6d6f\">\n",
              "  <button class=\"colab-df-quickchart\" onclick=\"quickchart('df-d5ad7d90-3dd8-4063-a205-43c581ad6d6f')\"\n",
              "            title=\"Suggest charts\"\n",
              "            style=\"display:none;\">\n",
              "\n",
              "<svg xmlns=\"http://www.w3.org/2000/svg\" height=\"24px\"viewBox=\"0 0 24 24\"\n",
              "     width=\"24px\">\n",
              "    <g>\n",
              "        <path d=\"M19 3H5c-1.1 0-2 .9-2 2v14c0 1.1.9 2 2 2h14c1.1 0 2-.9 2-2V5c0-1.1-.9-2-2-2zM9 17H7v-7h2v7zm4 0h-2V7h2v10zm4 0h-2v-4h2v4z\"/>\n",
              "    </g>\n",
              "</svg>\n",
              "  </button>\n",
              "\n",
              "<style>\n",
              "  .colab-df-quickchart {\n",
              "      --bg-color: #E8F0FE;\n",
              "      --fill-color: #1967D2;\n",
              "      --hover-bg-color: #E2EBFA;\n",
              "      --hover-fill-color: #174EA6;\n",
              "      --disabled-fill-color: #AAA;\n",
              "      --disabled-bg-color: #DDD;\n",
              "  }\n",
              "\n",
              "  [theme=dark] .colab-df-quickchart {\n",
              "      --bg-color: #3B4455;\n",
              "      --fill-color: #D2E3FC;\n",
              "      --hover-bg-color: #434B5C;\n",
              "      --hover-fill-color: #FFFFFF;\n",
              "      --disabled-bg-color: #3B4455;\n",
              "      --disabled-fill-color: #666;\n",
              "  }\n",
              "\n",
              "  .colab-df-quickchart {\n",
              "    background-color: var(--bg-color);\n",
              "    border: none;\n",
              "    border-radius: 50%;\n",
              "    cursor: pointer;\n",
              "    display: none;\n",
              "    fill: var(--fill-color);\n",
              "    height: 32px;\n",
              "    padding: 0;\n",
              "    width: 32px;\n",
              "  }\n",
              "\n",
              "  .colab-df-quickchart:hover {\n",
              "    background-color: var(--hover-bg-color);\n",
              "    box-shadow: 0 1px 2px rgba(60, 64, 67, 0.3), 0 1px 3px 1px rgba(60, 64, 67, 0.15);\n",
              "    fill: var(--button-hover-fill-color);\n",
              "  }\n",
              "\n",
              "  .colab-df-quickchart-complete:disabled,\n",
              "  .colab-df-quickchart-complete:disabled:hover {\n",
              "    background-color: var(--disabled-bg-color);\n",
              "    fill: var(--disabled-fill-color);\n",
              "    box-shadow: none;\n",
              "  }\n",
              "\n",
              "  .colab-df-spinner {\n",
              "    border: 2px solid var(--fill-color);\n",
              "    border-color: transparent;\n",
              "    border-bottom-color: var(--fill-color);\n",
              "    animation:\n",
              "      spin 1s steps(1) infinite;\n",
              "  }\n",
              "\n",
              "  @keyframes spin {\n",
              "    0% {\n",
              "      border-color: transparent;\n",
              "      border-bottom-color: var(--fill-color);\n",
              "      border-left-color: var(--fill-color);\n",
              "    }\n",
              "    20% {\n",
              "      border-color: transparent;\n",
              "      border-left-color: var(--fill-color);\n",
              "      border-top-color: var(--fill-color);\n",
              "    }\n",
              "    30% {\n",
              "      border-color: transparent;\n",
              "      border-left-color: var(--fill-color);\n",
              "      border-top-color: var(--fill-color);\n",
              "      border-right-color: var(--fill-color);\n",
              "    }\n",
              "    40% {\n",
              "      border-color: transparent;\n",
              "      border-right-color: var(--fill-color);\n",
              "      border-top-color: var(--fill-color);\n",
              "    }\n",
              "    60% {\n",
              "      border-color: transparent;\n",
              "      border-right-color: var(--fill-color);\n",
              "    }\n",
              "    80% {\n",
              "      border-color: transparent;\n",
              "      border-right-color: var(--fill-color);\n",
              "      border-bottom-color: var(--fill-color);\n",
              "    }\n",
              "    90% {\n",
              "      border-color: transparent;\n",
              "      border-bottom-color: var(--fill-color);\n",
              "    }\n",
              "  }\n",
              "</style>\n",
              "\n",
              "  <script>\n",
              "    async function quickchart(key) {\n",
              "      const quickchartButtonEl =\n",
              "        document.querySelector('#' + key + ' button');\n",
              "      quickchartButtonEl.disabled = true;  // To prevent multiple clicks.\n",
              "      quickchartButtonEl.classList.add('colab-df-spinner');\n",
              "      try {\n",
              "        const charts = await google.colab.kernel.invokeFunction(\n",
              "            'suggestCharts', [key], {});\n",
              "      } catch (error) {\n",
              "        console.error('Error during call to suggestCharts:', error);\n",
              "      }\n",
              "      quickchartButtonEl.classList.remove('colab-df-spinner');\n",
              "      quickchartButtonEl.classList.add('colab-df-quickchart-complete');\n",
              "    }\n",
              "    (() => {\n",
              "      let quickchartButtonEl =\n",
              "        document.querySelector('#df-d5ad7d90-3dd8-4063-a205-43c581ad6d6f button');\n",
              "      quickchartButtonEl.style.display =\n",
              "        google.colab.kernel.accessAllowed ? 'block' : 'none';\n",
              "    })();\n",
              "  </script>\n",
              "</div>\n",
              "\n",
              "  <div id=\"id_50342ae0-07d2-40c3-93fb-ce5cb6b0db99\">\n",
              "    <style>\n",
              "      .colab-df-generate {\n",
              "        background-color: #E8F0FE;\n",
              "        border: none;\n",
              "        border-radius: 50%;\n",
              "        cursor: pointer;\n",
              "        display: none;\n",
              "        fill: #1967D2;\n",
              "        height: 32px;\n",
              "        padding: 0 0 0 0;\n",
              "        width: 32px;\n",
              "      }\n",
              "\n",
              "      .colab-df-generate:hover {\n",
              "        background-color: #E2EBFA;\n",
              "        box-shadow: 0px 1px 2px rgba(60, 64, 67, 0.3), 0px 1px 3px 1px rgba(60, 64, 67, 0.15);\n",
              "        fill: #174EA6;\n",
              "      }\n",
              "\n",
              "      [theme=dark] .colab-df-generate {\n",
              "        background-color: #3B4455;\n",
              "        fill: #D2E3FC;\n",
              "      }\n",
              "\n",
              "      [theme=dark] .colab-df-generate:hover {\n",
              "        background-color: #434B5C;\n",
              "        box-shadow: 0px 1px 3px 1px rgba(0, 0, 0, 0.15);\n",
              "        filter: drop-shadow(0px 1px 2px rgba(0, 0, 0, 0.3));\n",
              "        fill: #FFFFFF;\n",
              "      }\n",
              "    </style>\n",
              "    <button class=\"colab-df-generate\" onclick=\"generateWithVariable('df')\"\n",
              "            title=\"Generate code using this dataframe.\"\n",
              "            style=\"display:none;\">\n",
              "\n",
              "  <svg xmlns=\"http://www.w3.org/2000/svg\" height=\"24px\"viewBox=\"0 0 24 24\"\n",
              "       width=\"24px\">\n",
              "    <path d=\"M7,19H8.4L18.45,9,17,7.55,7,17.6ZM5,21V16.75L18.45,3.32a2,2,0,0,1,2.83,0l1.4,1.43a1.91,1.91,0,0,1,.58,1.4,1.91,1.91,0,0,1-.58,1.4L9.25,21ZM18.45,9,17,7.55Zm-12,3A5.31,5.31,0,0,0,4.9,8.1,5.31,5.31,0,0,0,1,6.5,5.31,5.31,0,0,0,4.9,4.9,5.31,5.31,0,0,0,6.5,1,5.31,5.31,0,0,0,8.1,4.9,5.31,5.31,0,0,0,12,6.5,5.46,5.46,0,0,0,6.5,12Z\"/>\n",
              "  </svg>\n",
              "    </button>\n",
              "    <script>\n",
              "      (() => {\n",
              "      const buttonEl =\n",
              "        document.querySelector('#id_50342ae0-07d2-40c3-93fb-ce5cb6b0db99 button.colab-df-generate');\n",
              "      buttonEl.style.display =\n",
              "        google.colab.kernel.accessAllowed ? 'block' : 'none';\n",
              "\n",
              "      buttonEl.onclick = () => {\n",
              "        google.colab.notebook.generateWithVariable('df');\n",
              "      }\n",
              "      })();\n",
              "    </script>\n",
              "  </div>\n",
              "\n",
              "    </div>\n",
              "  </div>\n"
            ],
            "application/vnd.google.colaboratory.intrinsic+json": {
              "type": "dataframe",
              "variable_name": "df"
            }
          },
          "metadata": {},
          "execution_count": 21
        }
      ]
    },
    {
      "cell_type": "code",
      "source": [
        "#from locale import D_FMT\n",
        "import pandas as pd\n",
        "import re\n",
        "import nltk\n",
        "from nltk.corpus import words\n",
        "import re\n",
        "#from spellchecker import SpellChecker\n",
        "import pandas as pd\n",
        "import re\n",
        "\n",
        "# Initialize spell checker\n",
        "#spell = SpellChecker()\n",
        "\n",
        "# Function to filter misspelled words\n",
        "def remove_misspelled_words(text):\n",
        "    if isinstance(text, str):\n",
        "        # Split text into words\n",
        "        words = text.split()\n",
        "        # Check each word and retain it only if it's correctly spelled\n",
        "        corrected_words = [word for word in words if word in spell]\n",
        "        return \" \".join(corrected_words)\n",
        "    return \"\"\n",
        "\n",
        "# Download the English words corpus (only required once)\n",
        "nltk.download('words')\n",
        "\n",
        "# Get the set of valid English words\n",
        "english_words = set(words.words())\n",
        "\n",
        "# Function to filter non-English words from a string\n",
        "def filter_non_english_words(text):\n",
        "    if isinstance(text, str):\n",
        "        # Split text into words, filter non-English words, and rejoin\n",
        "        filtered_words = [word for word in text.split() if word.lower() in english_words]\n",
        "        return \" \".join(filtered_words)\n",
        "    return \"\"\n",
        "\n",
        "def expand_contractions(text, contractions_map):\n",
        "    if isinstance(text, str):\n",
        "        pattern = re.compile(r'\\b(' + '|'.join(re.escape(key) for key in contractions_map.keys()) + r')\\b')\n",
        "        return pattern.sub(lambda x: contractions_map[x.group()], text)\n",
        "    return text\n",
        "\n",
        "def preprocess_reviews(df):\n",
        "    # Step 1: Convert all reviews to lowercase\n",
        "    df['cleaned_review'] = df['review_body'].str.lower()\n",
        "\n",
        "    # Step 2: Remove HTML tags and URLs\n",
        "    df['cleaned_review'] = df['cleaned_review'].apply(lambda x: re.sub(r'<.*?>', '', x) if isinstance(x, str) else '')\n",
        "    df['cleaned_review'] = df['cleaned_review'].apply(lambda x: re.sub(r'http\\S+', '', x) if isinstance(x, str) else '')\n",
        "\n",
        "    # Step 3: Expand contractions (e.g., can't -> can not)\n",
        "    #df['cleaned_review'] = df['cleaned_review'].apply(lambda x: contractions.fix(x))\n",
        "    df['cleaned_review'] = df['cleaned_review'].apply(lambda x: expand_contractions(x, contractions_dict))\n",
        "\n",
        "\n",
        "    # Step 4: Separate concatenated words (e.g., slot...can't -> slot can't)\n",
        "    df['cleaned_review'] = df['cleaned_review'].apply(lambda x: re.sub(r'(\\w)(\\'\\w)', r'\\1 \\2', x))  # Insert space between word and contraction\n",
        "\n",
        "    # Step 5: Replace multiple dots (two or more) with a space\n",
        "    df['cleaned_review'] = df['cleaned_review'].apply(lambda x: re.sub(r'\\.{2,}', ' ', x))\n",
        "\n",
        "    # Step 6: Replace non-alphabetical characters (except for apostrophes and spaces) with a space\n",
        "    #df['cleaned_review'] = df['cleaned_review'].apply(lambda x: re.sub(r'[^\\w\\s\\'-]', ' ', x))  # Keep alphabet, spaces, apostrophes, and hyphens\n",
        "    df['cleaned_review'] = df['cleaned_review'].apply(lambda x: re.sub(r'[^a-zA-Z\\s\\']', ' ', x))  # Keep only alphabet, spaces, and apostrophes\n",
        "    # Step 7: Remove extra spaces (e.g., from replacing punctuation)\n",
        "    df['cleaned_review'] = df['cleaned_review'].apply(lambda x: re.sub(r'\\s+', ' ', x).strip())\n",
        "\n",
        "    # Step 8:  Apply the function to remove misspelled words\n",
        "    df['cleaned_review'] = df['cleaned_review'].apply(filter_non_english_words)\n",
        "    #df['cleaned_review'] = df['cleaned_review'].apply(remove_misspelled_words)\n",
        "    return df\n",
        "\n",
        "def average_length(df, column='review_body'):\n",
        "    # Replace non-string values with empty string\n",
        "    df[column] = df[column].fillna('').astype(str)\n",
        "\n",
        "    # Calculate average length\n",
        "    lengths = df[column].apply(len)\n",
        "    return lengths.mean()\n",
        "\n",
        "\n",
        "\n",
        "# Calculate average lengths before preprocessing\n",
        "avg_length_before = average_length(df, column='review_body')\n",
        "\n",
        "# Preprocess the reviews\n",
        "reduced_df = preprocess_reviews(df)\n",
        "\n",
        "# Calculate average lengths after preprocessing\n",
        "avg_length_after = average_length(df, column='cleaned_review')\n",
        "\n",
        "# Output average lengths before and after\n",
        "print(f\"Average length before Data Cleaning: {avg_length_before}, Average length after Data Cleaning: {avg_length_after}\")\n",
        "\n",
        "\n",
        "\n",
        "#Average length before cleaning: 319.694505\n",
        "#Average length after cleaning: 260.67447"
      ],
      "metadata": {
        "id": "ugrCxBO5PT4X",
        "colab": {
          "base_uri": "https://localhost:8080/"
        },
        "outputId": "1240399e-c13e-4a6c-a742-7cf705356bd8"
      },
      "execution_count": 22,
      "outputs": [
        {
          "output_type": "stream",
          "name": "stderr",
          "text": [
            "[nltk_data] Downloading package words to /root/nltk_data...\n",
            "[nltk_data]   Unzipping corpora/words.zip.\n"
          ]
        },
        {
          "output_type": "stream",
          "name": "stdout",
          "text": [
            "Average length before Data Cleaning: 342.972252, Average length after Data Cleaning: 280.349656\n"
          ]
        }
      ]
    },
    {
      "cell_type": "code",
      "source": [
        "nltk.download('punkt_tab')\n",
        "nltk.download('averaged_perceptron_tagger_eng')\n",
        "import nltk\n",
        "from nltk.corpus import stopwords\n",
        "from nltk.tokenize import word_tokenize\n",
        "from nltk.corpus import wordnet\n",
        "from nltk.stem import WordNetLemmatizer\n",
        "\n",
        "# Download necessary resources if not already downloaded\n",
        "nltk.download('punkt')\n",
        "nltk.download('stopwords')\n",
        "nltk.download('wordnet')\n",
        "nltk.download('averaged_perceptron_tagger')\n",
        "\n",
        "# Initialize the lemmatizer and stopwords\n",
        "lemmatizer = WordNetLemmatizer()\n",
        "stop_words = set(stopwords.words('english'))\n",
        "\n",
        "# Function to get the WordNet POS tag from the NLTK POS tag\n",
        "def get_wordnet_pos(tag):\n",
        "    if tag.startswith('VB'):  # Verbs\n",
        "        return wordnet.VERB\n",
        "    elif tag.startswith('JJ'):  # Adjectives\n",
        "        return wordnet.ADJ\n",
        "    elif tag.startswith('NN'):  # Nouns\n",
        "        return wordnet.NOUN\n",
        "    elif tag.startswith('RB'):  # Adverbs\n",
        "        return wordnet.ADV\n",
        "    else:\n",
        "        return wordnet.NOUN  # Default to noun if no match\n",
        "\n",
        "# Function to lemmatize text with POS tagging\n",
        "def lemmatize_text(text):\n",
        "    # Tokenize the sentence and POS tag each token\n",
        "    tokens = word_tokenize(text)\n",
        "    tagged_tokens = nltk.pos_tag(tokens)\n",
        "\n",
        "    # Lemmatize using POS tags and filter out stopwords\n",
        "    lemmatized_words = [\n",
        "        lemmatizer.lemmatize(word, get_wordnet_pos(tag))\n",
        "        for word, tag in tagged_tokens if word.lower() not in stop_words\n",
        "    ]\n",
        "\n",
        "    # Return the lemmatized sentence as a string\n",
        "    return ' '.join(lemmatized_words)\n",
        "\n",
        "# Apply lemmatization to your dataframe column\n",
        "df['cleaned_review'] = df['cleaned_review'].apply(lemmatize_text)"
      ],
      "metadata": {
        "id": "amiUYYejPUZP",
        "colab": {
          "base_uri": "https://localhost:8080/"
        },
        "outputId": "f456a8e3-410b-46dd-ace4-d846f98e3514"
      },
      "execution_count": 23,
      "outputs": [
        {
          "output_type": "stream",
          "name": "stderr",
          "text": [
            "[nltk_data] Downloading package punkt_tab to /root/nltk_data...\n",
            "[nltk_data]   Package punkt_tab is already up-to-date!\n",
            "[nltk_data] Downloading package averaged_perceptron_tagger_eng to\n",
            "[nltk_data]     /root/nltk_data...\n",
            "[nltk_data]   Unzipping taggers/averaged_perceptron_tagger_eng.zip.\n",
            "[nltk_data] Downloading package punkt to /root/nltk_data...\n",
            "[nltk_data]   Package punkt is already up-to-date!\n",
            "[nltk_data] Downloading package stopwords to /root/nltk_data...\n",
            "[nltk_data]   Unzipping corpora/stopwords.zip.\n",
            "[nltk_data] Downloading package wordnet to /root/nltk_data...\n",
            "[nltk_data]   Package wordnet is already up-to-date!\n",
            "[nltk_data] Downloading package averaged_perceptron_tagger to\n",
            "[nltk_data]     /root/nltk_data...\n",
            "[nltk_data]   Unzipping taggers/averaged_perceptron_tagger.zip.\n"
          ]
        }
      ]
    },
    {
      "cell_type": "code",
      "source": [
        "print(f\"Average length before data preprocessing: {avg_length_after}, Average length after data preprocessing: {average_length(reduced_df, column='cleaned_review')}\")\n"
      ],
      "metadata": {
        "colab": {
          "base_uri": "https://localhost:8080/"
        },
        "id": "aZntVr5gG3Md",
        "outputId": "bf5c5f0a-a0ba-4309-abe6-bff68fea323c"
      },
      "execution_count": 24,
      "outputs": [
        {
          "output_type": "stream",
          "name": "stdout",
          "text": [
            "Average length before data preprocessing: 280.349656, Average length after data preprocessing: 153.755496\n"
          ]
        }
      ]
    },
    {
      "cell_type": "code",
      "source": [
        "df_3classes = df.copy()\n",
        "# Labels: Sentiment classification (Class 1 = Positive, Class 2 = Negative)\n",
        "df = df[df[\"sentiment\"].isin([1, 2])]  # Ignore Class 3 (Neutral)"
      ],
      "metadata": {
        "id": "d4uhuPnB49IF"
      },
      "execution_count": 25,
      "outputs": []
    },
    {
      "cell_type": "code",
      "source": [
        "df_3classes.shape"
      ],
      "metadata": {
        "colab": {
          "base_uri": "https://localhost:8080/"
        },
        "id": "FTP3Czsf49BQ",
        "outputId": "d60a27af-1864-48ff-d167-eaef14e44789"
      },
      "execution_count": 26,
      "outputs": [
        {
          "output_type": "execute_result",
          "data": {
            "text/plain": [
              "(250000, 4)"
            ]
          },
          "metadata": {},
          "execution_count": 26
        }
      ]
    },
    {
      "cell_type": "code",
      "source": [
        "filtered_df = df[df['sentiment'] == 5]\n",
        "print(filtered_df)"
      ],
      "metadata": {
        "colab": {
          "base_uri": "https://localhost:8080/"
        },
        "id": "LWVUX-jQ5L06",
        "outputId": "264c0059-405b-423b-d758-fc659b3a23b4"
      },
      "execution_count": 27,
      "outputs": [
        {
          "output_type": "stream",
          "name": "stdout",
          "text": [
            "Empty DataFrame\n",
            "Columns: [star_rating, review_body, sentiment, cleaned_review]\n",
            "Index: []\n"
          ]
        }
      ]
    },
    {
      "cell_type": "code",
      "source": [
        "### Computing Word2Vec Embeddings from Google and Custom\n",
        "from gensim.models import Word2Vec\n",
        "import gensim.downloader as api\n",
        "\n",
        "# Load pretrained Word2Vec (Google News 300)\n",
        "wv_google = api.load(\"word2vec-google-news-300\")\n",
        "\n",
        "# Load custom-trained Word2Vec\n",
        "custom_w2v = Word2Vec.load(\"custom_word2vec.model\")\n",
        "\n",
        "# Function to compute average word embedding for a review\n",
        "def get_avg_embedding(tokens, model):\n",
        "    vectors = [model[word] for word in tokens.split() if word in model]\n",
        "    return np.mean(vectors, axis=0) if vectors else np.zeros(300)  # Return zero vector if no valid words\n",
        "\n",
        "# Compute embeddings for both models\n",
        "df[\"embedding_google\"] = df[\"cleaned_review\"].apply(lambda x: get_avg_embedding(x, wv_google))\n",
        "df[\"embedding_custom\"] = df[\"cleaned_review\"].apply(lambda x: get_avg_embedding(x, custom_w2v.wv))"
      ],
      "metadata": {
        "id": "tqNR_GYqPUWe",
        "colab": {
          "base_uri": "https://localhost:8080/"
        },
        "outputId": "de44655a-cd08-4c25-d6b7-d3d3a0746c6e"
      },
      "execution_count": 28,
      "outputs": [
        {
          "output_type": "stream",
          "name": "stderr",
          "text": [
            "<ipython-input-28-724c759ae486>:17: SettingWithCopyWarning: \n",
            "A value is trying to be set on a copy of a slice from a DataFrame.\n",
            "Try using .loc[row_indexer,col_indexer] = value instead\n",
            "\n",
            "See the caveats in the documentation: https://pandas.pydata.org/pandas-docs/stable/user_guide/indexing.html#returning-a-view-versus-a-copy\n",
            "  df[\"embedding_google\"] = df[\"cleaned_review\"].apply(lambda x: get_avg_embedding(x, wv_google))\n",
            "<ipython-input-28-724c759ae486>:18: SettingWithCopyWarning: \n",
            "A value is trying to be set on a copy of a slice from a DataFrame.\n",
            "Try using .loc[row_indexer,col_indexer] = value instead\n",
            "\n",
            "See the caveats in the documentation: https://pandas.pydata.org/pandas-docs/stable/user_guide/indexing.html#returning-a-view-versus-a-copy\n",
            "  df[\"embedding_custom\"] = df[\"cleaned_review\"].apply(lambda x: get_avg_embedding(x, custom_w2v.wv))\n"
          ]
        }
      ]
    },
    {
      "cell_type": "code",
      "source": [
        "s=\"uiuiu hjhj jhj\"\n",
        "for word in s.split():\n",
        "  print(word)"
      ],
      "metadata": {
        "colab": {
          "base_uri": "https://localhost:8080/"
        },
        "id": "BBrHIBBdSPlY",
        "outputId": "0174f6f2-3309-42dc-e127-d355fbfa3b20"
      },
      "execution_count": 29,
      "outputs": [
        {
          "output_type": "stream",
          "name": "stdout",
          "text": [
            "uiuiu\n",
            "hjhj\n",
            "jhj\n"
          ]
        }
      ]
    },
    {
      "cell_type": "code",
      "source": [
        "### Tf-idf feature extraction\n",
        "newdf= reduced_df\n",
        "from sklearn.feature_extraction.text import TfidfVectorizer\n",
        "import pandas as pd\n",
        "\n",
        "# Initialize the TfidfVectorizer\n",
        "tfidf_vectorizer = TfidfVectorizer(\n",
        "    max_features=10000,  # Limit to top 5000 terms (optional)\n",
        "    stop_words='english',  # Remove common stop words\n",
        "    #ngram_range=(1,2)  # Use unigrams and bigrams\n",
        ")\n",
        "# Fit the vectorizer and transform the data\n",
        "tfidf_features = tfidf_vectorizer.fit_transform(df['cleaned_review'])"
      ],
      "metadata": {
        "id": "rV6HR2J7bdHB"
      },
      "execution_count": 30,
      "outputs": []
    },
    {
      "cell_type": "code",
      "source": [
        "tfidf_features"
      ],
      "metadata": {
        "colab": {
          "base_uri": "https://localhost:8080/"
        },
        "id": "d0RjKjhV4hOt",
        "outputId": "b9ec1602-9807-4e3e-ddd9-fd6e696b4b9d"
      },
      "execution_count": 31,
      "outputs": [
        {
          "output_type": "execute_result",
          "data": {
            "text/plain": [
              "<200000x10000 sparse matrix of type '<class 'numpy.float64'>'\n",
              "\twith 3221898 stored elements in Compressed Sparse Row format>"
            ]
          },
          "metadata": {},
          "execution_count": 31
        }
      ]
    },
    {
      "cell_type": "code",
      "source": [
        "# Train - Test Split\n",
        "from sklearn.model_selection import train_test_split\n",
        "# Train-test split (80% training, 20% testing)\n",
        "X_train_google, X_test_google, y_train, y_test = train_test_split(\n",
        "    list(df[\"embedding_google\"]), df[\"sentiment\"], test_size=0.2, random_state=42, stratify=df[\"sentiment\"]\n",
        ")\n",
        "\n",
        "X_train_custom, X_test_custom, _, _ = train_test_split(\n",
        "    list(df[\"embedding_custom\"]), df[\"sentiment\"], test_size=0.2, random_state=42, stratify=df[\"sentiment\"]\n",
        ")\n",
        "\n",
        "X_train_tfidf, X_test_tfidf, _, _ = train_test_split(\n",
        "    tfidf_features, df[\"sentiment\"], test_size=0.2, random_state=42, stratify=df[\"sentiment\"]\n",
        ")"
      ],
      "metadata": {
        "id": "BqqFtCYQbdED"
      },
      "execution_count": 32,
      "outputs": []
    },
    {
      "cell_type": "code",
      "source": [
        "print(type(X_train_google))  # <class 'list'>\n",
        "print(type(X_train_google[0]))  # <class 'numpy.ndarray'>\n",
        "print(X_train_google[0].shape)  # (300,)"
      ],
      "metadata": {
        "colab": {
          "base_uri": "https://localhost:8080/"
        },
        "id": "-fmSmv1_9B7M",
        "outputId": "3f6830cc-baca-4607-b1fd-1d2e6fc86751"
      },
      "execution_count": 33,
      "outputs": [
        {
          "output_type": "stream",
          "name": "stdout",
          "text": [
            "<class 'list'>\n",
            "<class 'numpy.ndarray'>\n",
            "(300,)\n"
          ]
        }
      ]
    },
    {
      "cell_type": "code",
      "source": [
        "print(type(X_train_custom))  # <class 'list'>\n",
        "print(type(X_train_custom[0]))  # <class 'numpy.ndarray'>\n",
        "print(X_train_custom[0].shape)  # (300,)"
      ],
      "metadata": {
        "colab": {
          "base_uri": "https://localhost:8080/"
        },
        "id": "lMbRHSkU9Yvj",
        "outputId": "1e324cac-f122-4642-eeb0-95c6eb191f71"
      },
      "execution_count": 34,
      "outputs": [
        {
          "output_type": "stream",
          "name": "stdout",
          "text": [
            "<class 'list'>\n",
            "<class 'numpy.ndarray'>\n",
            "(300,)\n"
          ]
        }
      ]
    },
    {
      "cell_type": "code",
      "source": [
        "#Perceptron training\n",
        "from sklearn.linear_model import Perceptron\n",
        "from sklearn.svm import SVC\n",
        "from sklearn.svm import LinearSVC\n",
        "from sklearn.metrics import accuracy_score, precision_score, recall_score, f1_score\n",
        "\n",
        "# Function to evaluate model performance\n",
        "def evaluate_model(model, X_train, X_test, y_train, y_test, model_name):\n",
        "    y_train_pred = model.predict(X_train)\n",
        "    y_test_pred = model.predict(X_test)\n",
        "\n",
        "    # Training metrics\n",
        "    train_acc = accuracy_score(y_train, y_train_pred)\n",
        "    train_precision = precision_score(y_train, y_train_pred, average=\"binary\")\n",
        "    train_recall = recall_score(y_train, y_train_pred, average=\"binary\")\n",
        "    train_f1 = f1_score(y_train, y_train_pred, average=\"binary\")\n",
        "\n",
        "    # Test metrics\n",
        "    test_acc = accuracy_score(y_test, y_test_pred)\n",
        "    test_precision = precision_score(y_test, y_test_pred, average=\"binary\")\n",
        "    test_recall = recall_score(y_test, y_test_pred, average=\"binary\")\n",
        "    test_f1 = f1_score(y_test, y_test_pred, average=\"binary\")\n",
        "\n",
        "    # Print results\n",
        "    print(f\"\\n📌 {model_name} Results:\")\n",
        "    print(f\"✅ Training Accuracy: {train_acc:.4f} | Test Accuracy: {test_acc:.4f}\")\n",
        "    print(f\"✅ Training Precision: {train_precision:.4f} | Test Precision: {test_precision:.4f}\")\n",
        "    print(f\"✅ Training Recall: {train_recall:.4f} | Test Recall: {test_recall:.4f}\")\n",
        "    print(f\"✅ Training F1 Score: {train_f1:.4f} | Test F1 Score: {test_f1:.4f}\")\n",
        "\n",
        "    #return {\n",
        "    #    \"train_acc\": train_acc, \"test_acc\": test_acc,\n",
        "    #    \"train_precision\": train_precision, \"test_precision\": test_precision,\n",
        "    #    \"train_recall\": train_recall, \"test_recall\": test_recall,\n",
        "    #    \"train_f1\": train_f1, \"test_f1\": test_f1\n",
        "    #}\n",
        "\n",
        "### **1️⃣ Perceptron Models**\n",
        "print(\"\\n🔹 Training Perceptron Models...\")\n",
        "perc_google = Perceptron()\n",
        "perc_google.fit(X_train_google, y_train)\n",
        "evaluate_model(perc_google, X_train_google, X_test_google, y_train, y_test, \"Perceptron (Google News W2V)\")\n",
        "\n",
        "perc_custom = Perceptron()\n",
        "perc_custom.fit(X_train_custom, y_train)\n",
        "evaluate_model(perc_custom, X_train_custom, X_test_custom, y_train, y_test, \"Perceptron (Custom W2V)\")\n",
        "\n",
        "perc_tfidf = Perceptron()\n",
        "perc_tfidf.fit(X_train_tfidf, y_train)\n",
        "evaluate_model(perc_tfidf, X_train_tfidf, X_test_tfidf, y_train, y_test, \"Perceptron (TF-IDF)\")\n",
        "\n",
        "\n",
        "### **2️⃣ SVM Models**\n",
        "print(\"\\n🔹 Training SVM Models...\")\n",
        "svm_google = LinearSVC(random_state=42, max_iter=10000)\n",
        "svm_google.fit(X_train_google, y_train)\n",
        "evaluate_model(svm_google, X_train_google, X_test_google, y_train, y_test, \"SVM (Google News W2V)\")\n",
        "\n",
        "svm_custom = LinearSVC(random_state=42, max_iter=10000)\n",
        "svm_custom.fit(X_train_custom, y_train)\n",
        "evaluate_model(svm_custom, X_train_custom, X_test_custom, y_train, y_test, \"SVM (Custom W2V)\")\n",
        "\n",
        "svm_tfidf =LinearSVC(random_state=42, max_iter=10000)\n",
        "svm_tfidf.fit(X_train_tfidf, y_train)\n",
        "evaluate_model(svm_tfidf, X_train_tfidf, X_test_tfidf, y_train, y_test, \"SVM (TF-IDF)\")\n"
      ],
      "metadata": {
        "colab": {
          "base_uri": "https://localhost:8080/"
        },
        "id": "NUMJvjoG--CT",
        "outputId": "9b1c836c-a0b9-4862-859e-6f4ceb225de2"
      },
      "execution_count": 35,
      "outputs": [
        {
          "output_type": "stream",
          "name": "stdout",
          "text": [
            "\n",
            "🔹 Training Perceptron Models...\n",
            "\n",
            "📌 Perceptron (Google News W2V) Results:\n",
            "✅ Training Accuracy: 0.7853 | Test Accuracy: 0.7836\n",
            "✅ Training Precision: 0.7921 | Test Precision: 0.7889\n",
            "✅ Training Recall: 0.7738 | Test Recall: 0.7743\n",
            "✅ Training F1 Score: 0.7828 | Test F1 Score: 0.7816\n",
            "\n",
            "📌 Perceptron (Custom W2V) Results:\n",
            "✅ Training Accuracy: 0.7579 | Test Accuracy: 0.7607\n",
            "✅ Training Precision: 0.7869 | Test Precision: 0.7880\n",
            "✅ Training Recall: 0.7072 | Test Recall: 0.7132\n",
            "✅ Training F1 Score: 0.7449 | Test F1 Score: 0.7487\n",
            "\n",
            "📌 Perceptron (TF-IDF) Results:\n",
            "✅ Training Accuracy: 0.8046 | Test Accuracy: 0.7852\n",
            "✅ Training Precision: 0.7992 | Test Precision: 0.7792\n",
            "✅ Training Recall: 0.8137 | Test Recall: 0.7958\n",
            "✅ Training F1 Score: 0.8064 | Test F1 Score: 0.7874\n",
            "\n",
            "🔹 Training SVM Models...\n",
            "\n",
            "📌 SVM (Google News W2V) Results:\n",
            "✅ Training Accuracy: 0.8122 | Test Accuracy: 0.8125\n",
            "✅ Training Precision: 0.8314 | Test Precision: 0.8312\n",
            "✅ Training Recall: 0.7833 | Test Recall: 0.7844\n",
            "✅ Training F1 Score: 0.8066 | Test F1 Score: 0.8071\n",
            "\n",
            "📌 SVM (Custom W2V) Results:\n",
            "✅ Training Accuracy: 0.8268 | Test Accuracy: 0.8281\n",
            "✅ Training Precision: 0.8413 | Test Precision: 0.8430\n",
            "✅ Training Recall: 0.8056 | Test Recall: 0.8064\n",
            "✅ Training F1 Score: 0.8231 | Test F1 Score: 0.8243\n",
            "\n",
            "📌 SVM (TF-IDF) Results:\n",
            "✅ Training Accuracy: 0.8637 | Test Accuracy: 0.8407\n",
            "✅ Training Precision: 0.8684 | Test Precision: 0.8455\n",
            "✅ Training Recall: 0.8574 | Test Recall: 0.8337\n",
            "✅ Training F1 Score: 0.8628 | Test F1 Score: 0.8396\n"
          ]
        }
      ]
    },
    {
      "cell_type": "markdown",
      "source": [
        "### TF-IDF remains the best performing feature type for both Perceptron and SVM, achieving: Best test accuracy (84.1%) with SVM.\n",
        "\n",
        "### SVM outperforms Perceptron consistently.\n",
        "\n",
        "### Custom Word2Vec benefits from domain-specific training but still lags behind TF-IDF."
      ],
      "metadata": {
        "id": "KJFxHK7G05ZD"
      }
    },
    {
      "cell_type": "code",
      "source": [
        "import torch\n",
        "import torch.nn as nn\n",
        "import torch.optim as optim\n",
        "import numpy as np\n",
        "import pandas as pd\n",
        "import gensim.downloader as api\n",
        "from gensim.models import Word2Vec\n",
        "from nltk.tokenize import word_tokenize\n",
        "from sklearn.model_selection import train_test_split\n",
        "from sklearn.metrics import accuracy_score\n"
      ],
      "metadata": {
        "id": "5F9Hw_Or-96F"
      },
      "execution_count": 36,
      "outputs": []
    },
    {
      "cell_type": "code",
      "source": [],
      "metadata": {
        "id": "skhNpLe--Lnn"
      },
      "execution_count": 36,
      "outputs": []
    },
    {
      "cell_type": "code",
      "source": [
        "df = df_3classes.copy()\n",
        "df = df[df[\"sentiment\"].isin([1, 2])]\n",
        "from sklearn.model_selection import train_test_split\n",
        "\n",
        "### Computing Word2Vec Embeddings from Google and Custom\n",
        "from gensim.models import Word2Vec\n",
        "import gensim.downloader as api\n",
        "\n",
        "# Load pretrained Word2Vec (Google News 300)\n",
        "wv_google = api.load(\"word2vec-google-news-300\")\n",
        "\n",
        "# Load custom-trained Word2Vec\n",
        "custom_w2v = Word2Vec.load(\"custom_word2vec.model\")\n",
        "\n",
        "# Function to compute average word embedding for a review\n",
        "def get_avg_embedding(tokens, model):\n",
        "    vectors = [model[word] for word in tokens.split() if word in model]\n",
        "    return np.mean(vectors, axis=0) if vectors else np.zeros(300)  # Return zero vector if no valid words\n",
        "\n",
        "# Compute embeddings for both models\n",
        "df[\"embedding_google\"] = df[\"cleaned_review\"].apply(lambda x: get_avg_embedding(x, wv_google))\n",
        "df[\"embedding_custom\"] = df[\"cleaned_review\"].apply(lambda x: get_avg_embedding(x, custom_w2v.wv))\n",
        "\n"
      ],
      "metadata": {
        "id": "9Cww3jix35CD"
      },
      "execution_count": 37,
      "outputs": []
    },
    {
      "cell_type": "code",
      "source": [
        "# Train-test split (80% training, 20% testing)\n",
        "X_train_google, X_test_google, y_train, y_test = train_test_split(\n",
        "    list(df[\"embedding_google\"]), df[\"sentiment\"], test_size=0.2, random_state=42, stratify=df[\"sentiment\"]\n",
        ")\n",
        "\n",
        "X_train_custom, X_test_custom, _, _ = train_test_split(\n",
        "    list(df[\"embedding_custom\"]), df[\"sentiment\"], test_size=0.2, random_state=42, stratify=df[\"sentiment\"]\n",
        ")\n",
        "\n",
        "#For ternary :\n",
        "df_3classes[\"embedding_google\"] = df_3classes[\"cleaned_review\"].apply(lambda x: get_avg_embedding(x, wv_google))\n",
        "df_3classes[\"embedding_custom\"] = df_3classes[\"cleaned_review\"].apply(lambda x: get_avg_embedding(x, custom_w2v.wv))\n",
        "\n",
        "\n",
        "# Train-test split (80% training, 20% testing)\n",
        "X_train_google_ternary, X_test_google_ternary, y_train_ter, y_test_ter = train_test_split(\n",
        "    list(df_3classes[\"embedding_google\"]), df_3classes[\"sentiment\"], test_size=0.2, random_state=42, stratify=df_3classes[\"sentiment\"]\n",
        ")\n",
        "\n",
        "X_train_custom_ternary, X_test_custom_ternary, _, _ = train_test_split(\n",
        "    list(df_3classes[\"embedding_custom\"]), df_3classes[\"sentiment\"], test_size=0.2, random_state=42, stratify=df_3classes[\"sentiment\"]\n",
        ")\n"
      ],
      "metadata": {
        "id": "sBhmtPm1_F-A"
      },
      "execution_count": 38,
      "outputs": []
    },
    {
      "cell_type": "code",
      "source": [
        "y_train_binary = np.array(y_train.replace({1: 1, 2: 0}))\n",
        "y_test_binary = np.array(y_test.replace({1: 1, 2: 0}))"
      ],
      "metadata": {
        "id": "ht4ATVV868KZ"
      },
      "execution_count": 39,
      "outputs": []
    },
    {
      "cell_type": "code",
      "source": [
        "y_train_ternary = np.array(y_train_ter .replace({1: 0, 2: 1,3:2}))\n",
        "y_test_ternary = np.array(y_test_ter.replace({1: 0, 2: 1,3:2}))"
      ],
      "metadata": {
        "id": "9S6zqD_09kit"
      },
      "execution_count": 40,
      "outputs": []
    },
    {
      "cell_type": "code",
      "source": [
        "#creating a Feedforward MLP with two hidden layers (50 & 10 nodes).\n",
        "class MLP(nn.Module):\n",
        "    def __init__(self, input_size, num_classes):\n",
        "        super(MLP, self).__init__()\n",
        "        self.fc1 = nn.Linear(input_size, 50)  # First hidden layer (50 neurons)\n",
        "        self.relu1 = nn.ReLU()\n",
        "        self.fc2 = nn.Linear(50, 10)  # Second hidden layer (10 neurons)\n",
        "        self.relu2 = nn.ReLU()\n",
        "        self.fc3 = nn.Linear(10, num_classes)  # Output layer\n",
        "\n",
        "    def forward(self, x):\n",
        "        x = self.fc1(x)\n",
        "        x = self.relu1(x)\n",
        "        x = self.fc2(x)\n",
        "        x = self.relu2(x)\n",
        "        x = self.fc3(x)\n",
        "        return x\n"
      ],
      "metadata": {
        "id": "L3M7YR9G3449"
      },
      "execution_count": 41,
      "outputs": []
    },
    {
      "cell_type": "code",
      "source": [
        "def train_model(X_train, y_train, X_test, y_test, num_classes, epochs=250, lr=0.001):\n",
        "    # Convert numpy arrays to PyTorch tensors\n",
        "    X_train, y_train = torch.tensor(X_train, dtype=torch.float32), torch.tensor(y_train, dtype=torch.long)\n",
        "    X_test, y_test = torch.tensor(X_test, dtype=torch.float32), torch.tensor(y_test, dtype=torch.long)\n",
        "\n",
        "    # Define model\n",
        "    model = MLP(input_size=300, num_classes=num_classes)\n",
        "    criterion = nn.CrossEntropyLoss()  # Cross-entropy loss\n",
        "    optimizer = optim.Adam(model.parameters(), lr=lr)  # Adam optimizer\n",
        "\n",
        "    # Training loop\n",
        "    for epoch in range(epochs):\n",
        "        optimizer.zero_grad()\n",
        "        outputs = model(X_train)\n",
        "        loss = criterion(outputs, y_train)\n",
        "        loss.backward()\n",
        "        optimizer.step()\n",
        "\n",
        "        if (epoch + 1) % 5 == 0:\n",
        "            print(f\"Epoch [{epoch+1}/{epochs}], Loss: {loss.item():.4f}\")\n",
        "\n",
        "    # Evaluate on test set\n",
        "    with torch.no_grad():\n",
        "        test_outputs = model(X_test)\n",
        "        _, predicted = torch.max(test_outputs, 1)\n",
        "        accuracy = accuracy_score(y_test.numpy(), predicted.numpy())\n",
        "\n",
        "    return accuracy\n"
      ],
      "metadata": {
        "id": "BOykaGpa6D7B"
      },
      "execution_count": 42,
      "outputs": []
    },
    {
      "cell_type": "code",
      "source": [
        "# Training Binary Classification Models:\n",
        "print(\"Binary Classification (Positive vs Negative)\")\n",
        "\n",
        "# Train on Google Word2Vec\n",
        "acc_binary_google = train_model(X_train_google, y_train_binary, X_test_google, y_test_binary, num_classes=2)\n",
        "print()\n",
        "print(f\"✅ Google W2V Accuracy (Binary): {acc_binary_google:.4f}\")\n",
        "print()\n",
        "# Train on Custom Word2Vec\n",
        "acc_binary_custom = train_model(X_train_custom, y_train_binary, X_test_custom, y_test_binary, num_classes=2)\n",
        "print(f\"✅ Custom W2V Accuracy (Binary): {acc_binary_custom:.4f}\")\n",
        "\n",
        "\n"
      ],
      "metadata": {
        "colab": {
          "base_uri": "https://localhost:8080/"
        },
        "id": "EebwiMcE6D4g",
        "outputId": "abff6d70-f12e-4e2b-ba07-0cd30c23aecb"
      },
      "execution_count": 43,
      "outputs": [
        {
          "output_type": "stream",
          "name": "stdout",
          "text": [
            "Binary Classification (Positive vs Negative)\n"
          ]
        },
        {
          "output_type": "stream",
          "name": "stderr",
          "text": [
            "<ipython-input-42-a38e60e46507>:3: UserWarning: Creating a tensor from a list of numpy.ndarrays is extremely slow. Please consider converting the list to a single numpy.ndarray with numpy.array() before converting to a tensor. (Triggered internally at ../torch/csrc/utils/tensor_new.cpp:278.)\n",
            "  X_train, y_train = torch.tensor(X_train, dtype=torch.float32), torch.tensor(y_train, dtype=torch.long)\n"
          ]
        },
        {
          "output_type": "stream",
          "name": "stdout",
          "text": [
            "Epoch [5/250], Loss: 0.6918\n",
            "Epoch [10/250], Loss: 0.6883\n",
            "Epoch [15/250], Loss: 0.6837\n",
            "Epoch [20/250], Loss: 0.6773\n",
            "Epoch [25/250], Loss: 0.6696\n",
            "Epoch [30/250], Loss: 0.6607\n",
            "Epoch [35/250], Loss: 0.6505\n",
            "Epoch [40/250], Loss: 0.6391\n",
            "Epoch [45/250], Loss: 0.6267\n",
            "Epoch [50/250], Loss: 0.6132\n",
            "Epoch [55/250], Loss: 0.5989\n",
            "Epoch [60/250], Loss: 0.5839\n",
            "Epoch [65/250], Loss: 0.5684\n",
            "Epoch [70/250], Loss: 0.5525\n",
            "Epoch [75/250], Loss: 0.5366\n",
            "Epoch [80/250], Loss: 0.5208\n",
            "Epoch [85/250], Loss: 0.5057\n",
            "Epoch [90/250], Loss: 0.4916\n",
            "Epoch [95/250], Loss: 0.4790\n",
            "Epoch [100/250], Loss: 0.4682\n",
            "Epoch [105/250], Loss: 0.4592\n",
            "Epoch [110/250], Loss: 0.4519\n",
            "Epoch [115/250], Loss: 0.4461\n",
            "Epoch [120/250], Loss: 0.4414\n",
            "Epoch [125/250], Loss: 0.4375\n",
            "Epoch [130/250], Loss: 0.4342\n",
            "Epoch [135/250], Loss: 0.4315\n",
            "Epoch [140/250], Loss: 0.4292\n",
            "Epoch [145/250], Loss: 0.4271\n",
            "Epoch [150/250], Loss: 0.4253\n",
            "Epoch [155/250], Loss: 0.4237\n",
            "Epoch [160/250], Loss: 0.4222\n",
            "Epoch [165/250], Loss: 0.4208\n",
            "Epoch [170/250], Loss: 0.4196\n",
            "Epoch [175/250], Loss: 0.4184\n",
            "Epoch [180/250], Loss: 0.4173\n",
            "Epoch [185/250], Loss: 0.4162\n",
            "Epoch [190/250], Loss: 0.4152\n",
            "Epoch [195/250], Loss: 0.4143\n",
            "Epoch [200/250], Loss: 0.4133\n",
            "Epoch [205/250], Loss: 0.4124\n",
            "Epoch [210/250], Loss: 0.4115\n",
            "Epoch [215/250], Loss: 0.4107\n",
            "Epoch [220/250], Loss: 0.4098\n",
            "Epoch [225/250], Loss: 0.4090\n",
            "Epoch [230/250], Loss: 0.4081\n",
            "Epoch [235/250], Loss: 0.4071\n",
            "Epoch [240/250], Loss: 0.4062\n",
            "Epoch [245/250], Loss: 0.4052\n",
            "Epoch [250/250], Loss: 0.4042\n",
            "\n",
            "✅ Google W2V Accuracy (Binary): 0.8181\n",
            "\n",
            "Epoch [5/250], Loss: 0.6784\n",
            "Epoch [10/250], Loss: 0.6400\n",
            "Epoch [15/250], Loss: 0.5916\n",
            "Epoch [20/250], Loss: 0.5477\n",
            "Epoch [25/250], Loss: 0.5135\n",
            "Epoch [30/250], Loss: 0.4880\n",
            "Epoch [35/250], Loss: 0.4676\n",
            "Epoch [40/250], Loss: 0.4525\n",
            "Epoch [45/250], Loss: 0.4412\n",
            "Epoch [50/250], Loss: 0.4313\n",
            "Epoch [55/250], Loss: 0.4228\n",
            "Epoch [60/250], Loss: 0.4161\n",
            "Epoch [65/250], Loss: 0.4109\n",
            "Epoch [70/250], Loss: 0.4066\n",
            "Epoch [75/250], Loss: 0.4028\n",
            "Epoch [80/250], Loss: 0.3996\n",
            "Epoch [85/250], Loss: 0.3966\n",
            "Epoch [90/250], Loss: 0.3939\n",
            "Epoch [95/250], Loss: 0.3914\n",
            "Epoch [100/250], Loss: 0.3889\n",
            "Epoch [105/250], Loss: 0.3865\n",
            "Epoch [110/250], Loss: 0.3842\n",
            "Epoch [115/250], Loss: 0.3820\n",
            "Epoch [120/250], Loss: 0.3799\n",
            "Epoch [125/250], Loss: 0.3778\n",
            "Epoch [130/250], Loss: 0.3759\n",
            "Epoch [135/250], Loss: 0.3740\n",
            "Epoch [140/250], Loss: 0.3721\n",
            "Epoch [145/250], Loss: 0.3704\n",
            "Epoch [150/250], Loss: 0.3686\n",
            "Epoch [155/250], Loss: 0.3670\n",
            "Epoch [160/250], Loss: 0.3653\n",
            "Epoch [165/250], Loss: 0.3637\n",
            "Epoch [170/250], Loss: 0.3624\n",
            "Epoch [175/250], Loss: 0.3608\n",
            "Epoch [180/250], Loss: 0.3596\n",
            "Epoch [185/250], Loss: 0.3582\n",
            "Epoch [190/250], Loss: 0.3569\n",
            "Epoch [195/250], Loss: 0.3557\n",
            "Epoch [200/250], Loss: 0.3545\n",
            "Epoch [205/250], Loss: 0.3533\n",
            "Epoch [210/250], Loss: 0.3521\n",
            "Epoch [215/250], Loss: 0.3510\n",
            "Epoch [220/250], Loss: 0.3499\n",
            "Epoch [225/250], Loss: 0.3492\n",
            "Epoch [230/250], Loss: 0.3479\n",
            "Epoch [235/250], Loss: 0.3468\n",
            "Epoch [240/250], Loss: 0.3458\n",
            "Epoch [245/250], Loss: 0.3449\n",
            "Epoch [250/250], Loss: 0.3440\n",
            "✅ Custom W2V Accuracy (Binary): 0.8438\n"
          ]
        }
      ]
    },
    {
      "cell_type": "code",
      "source": [
        "print(\"Ternary Classification (Positive, Negative, Neutral)\")\n",
        "#X_train_google_ternary, X_test_google_ternary\n",
        "#X_train_custom_ternary, X_test_custom_ternary\n",
        "# Train on Google Word2Vec\n",
        "acc_ternary_google = train_model(X_train_google_ternary, y_train_ternary, X_test_google_ternary, y_test_ternary, num_classes=3)\n",
        "print(f\"✅ Google W2V Accuracy (Ternary): {acc_ternary_google:.4f}\")\n",
        "\n",
        "# Train on Custom Word2Vec\n",
        "acc_ternary_custom = train_model(X_train_custom_ternary, y_train_ternary, X_test_custom_ternary, y_test_ternary, num_classes=3)\n",
        "print(f\"✅ Custom W2V Accuracy (Ternary): {acc_ternary_custom:.4f}\")\n"
      ],
      "metadata": {
        "colab": {
          "base_uri": "https://localhost:8080/"
        },
        "id": "YG063lWK6D2C",
        "outputId": "61693d36-bf5b-4240-d4ff-08cecd74107d"
      },
      "execution_count": 44,
      "outputs": [
        {
          "output_type": "stream",
          "name": "stdout",
          "text": [
            "Ternary Classification (Positive, Negative, Neutral)\n",
            "Epoch [5/250], Loss: 1.0763\n",
            "Epoch [10/250], Loss: 1.0689\n",
            "Epoch [15/250], Loss: 1.0615\n",
            "Epoch [20/250], Loss: 1.0534\n",
            "Epoch [25/250], Loss: 1.0445\n",
            "Epoch [30/250], Loss: 1.0344\n",
            "Epoch [35/250], Loss: 1.0236\n",
            "Epoch [40/250], Loss: 1.0119\n",
            "Epoch [45/250], Loss: 0.9992\n",
            "Epoch [50/250], Loss: 0.9854\n",
            "Epoch [55/250], Loss: 0.9707\n",
            "Epoch [60/250], Loss: 0.9554\n",
            "Epoch [65/250], Loss: 0.9405\n",
            "Epoch [70/250], Loss: 0.9264\n",
            "Epoch [75/250], Loss: 0.9133\n",
            "Epoch [80/250], Loss: 0.9016\n",
            "Epoch [85/250], Loss: 0.8911\n",
            "Epoch [90/250], Loss: 0.8816\n",
            "Epoch [95/250], Loss: 0.8729\n",
            "Epoch [100/250], Loss: 0.8651\n",
            "Epoch [105/250], Loss: 0.8582\n",
            "Epoch [110/250], Loss: 0.8519\n",
            "Epoch [115/250], Loss: 0.8462\n",
            "Epoch [120/250], Loss: 0.8411\n",
            "Epoch [125/250], Loss: 0.8366\n",
            "Epoch [130/250], Loss: 0.8324\n",
            "Epoch [135/250], Loss: 0.8286\n",
            "Epoch [140/250], Loss: 0.8252\n",
            "Epoch [145/250], Loss: 0.8221\n",
            "Epoch [150/250], Loss: 0.8193\n",
            "Epoch [155/250], Loss: 0.8167\n",
            "Epoch [160/250], Loss: 0.8143\n",
            "Epoch [165/250], Loss: 0.8120\n",
            "Epoch [170/250], Loss: 0.8099\n",
            "Epoch [175/250], Loss: 0.8079\n",
            "Epoch [180/250], Loss: 0.8060\n",
            "Epoch [185/250], Loss: 0.8043\n",
            "Epoch [190/250], Loss: 0.8026\n",
            "Epoch [195/250], Loss: 0.8010\n",
            "Epoch [200/250], Loss: 0.7995\n",
            "Epoch [205/250], Loss: 0.7980\n",
            "Epoch [210/250], Loss: 0.7966\n",
            "Epoch [215/250], Loss: 0.7952\n",
            "Epoch [220/250], Loss: 0.7939\n",
            "Epoch [225/250], Loss: 0.7926\n",
            "Epoch [230/250], Loss: 0.7914\n",
            "Epoch [235/250], Loss: 0.7902\n",
            "Epoch [240/250], Loss: 0.7891\n",
            "Epoch [245/250], Loss: 0.7879\n",
            "Epoch [250/250], Loss: 0.7868\n",
            "✅ Google W2V Accuracy (Ternary): 0.6571\n",
            "Epoch [5/250], Loss: 1.0540\n",
            "Epoch [10/250], Loss: 1.0038\n",
            "Epoch [15/250], Loss: 0.9599\n",
            "Epoch [20/250], Loss: 0.9285\n",
            "Epoch [25/250], Loss: 0.9035\n",
            "Epoch [30/250], Loss: 0.8808\n",
            "Epoch [35/250], Loss: 0.8616\n",
            "Epoch [40/250], Loss: 0.8462\n",
            "Epoch [45/250], Loss: 0.8342\n",
            "Epoch [50/250], Loss: 0.8239\n",
            "Epoch [55/250], Loss: 0.8153\n",
            "Epoch [60/250], Loss: 0.8082\n",
            "Epoch [65/250], Loss: 0.8023\n",
            "Epoch [70/250], Loss: 0.7974\n",
            "Epoch [75/250], Loss: 0.7931\n",
            "Epoch [80/250], Loss: 0.7892\n",
            "Epoch [85/250], Loss: 0.7856\n",
            "Epoch [90/250], Loss: 0.7823\n",
            "Epoch [95/250], Loss: 0.7793\n",
            "Epoch [100/250], Loss: 0.7764\n",
            "Epoch [105/250], Loss: 0.7737\n",
            "Epoch [110/250], Loss: 0.7711\n",
            "Epoch [115/250], Loss: 0.7686\n",
            "Epoch [120/250], Loss: 0.7663\n",
            "Epoch [125/250], Loss: 0.7640\n",
            "Epoch [130/250], Loss: 0.7619\n",
            "Epoch [135/250], Loss: 0.7599\n",
            "Epoch [140/250], Loss: 0.7579\n",
            "Epoch [145/250], Loss: 0.7561\n",
            "Epoch [150/250], Loss: 0.7543\n",
            "Epoch [155/250], Loss: 0.7526\n",
            "Epoch [160/250], Loss: 0.7509\n",
            "Epoch [165/250], Loss: 0.7494\n",
            "Epoch [170/250], Loss: 0.7478\n",
            "Epoch [175/250], Loss: 0.7464\n",
            "Epoch [180/250], Loss: 0.7450\n",
            "Epoch [185/250], Loss: 0.7436\n",
            "Epoch [190/250], Loss: 0.7423\n",
            "Epoch [195/250], Loss: 0.7410\n",
            "Epoch [200/250], Loss: 0.7397\n",
            "Epoch [205/250], Loss: 0.7384\n",
            "Epoch [210/250], Loss: 0.7372\n",
            "Epoch [215/250], Loss: 0.7360\n",
            "Epoch [220/250], Loss: 0.7350\n",
            "Epoch [225/250], Loss: 0.7338\n",
            "Epoch [230/250], Loss: 0.7329\n",
            "Epoch [235/250], Loss: 0.7317\n",
            "Epoch [240/250], Loss: 0.7306\n",
            "Epoch [245/250], Loss: 0.7297\n",
            "Epoch [250/250], Loss: 0.7287\n",
            "✅ Custom W2V Accuracy (Ternary): 0.6794\n"
          ]
        }
      ]
    },
    {
      "cell_type": "code",
      "source": [],
      "metadata": {
        "id": "et0Qub-Y6DxI"
      },
      "execution_count": 44,
      "outputs": []
    },
    {
      "cell_type": "markdown",
      "source": [
        "###(b)"
      ],
      "metadata": {
        "id": "in1gL3tQIwxl"
      }
    },
    {
      "cell_type": "code",
      "source": [
        "def concat_w2v_vectors(tokens, model, num_vectors=10):\n",
        "    # Use model[word] directly for KeyedVectors (Google W2V) and model.wv[word] for Word2Vec models\n",
        "    vectors = [model[word] if isinstance(model, gensim.models.KeyedVectors) else model.wv[word] for word in tokens if word in model]\n",
        "\n",
        "    # If fewer than num_vectors words exist, pad with zero vectors\n",
        "    while len(vectors) < num_vectors:\n",
        "        vectors.append(np.zeros(model.vector_size))\n",
        "\n",
        "    # Take only the first num_vectors\n",
        "    vectors = vectors[:num_vectors]\n",
        "\n",
        "    # Flatten (concatenate) the vectors\n",
        "    return np.concatenate(vectors, axis=0)\n",
        "\n",
        "# Convert dataset to concatenated vectors\n",
        "X_google_concat = np.array([concat_w2v_vectors(tokens, wv_google) for tokens in df[\"cleaned_review\"]])\n",
        "X_custom_concat = np.array([concat_w2v_vectors(tokens, custom_w2v.wv) for tokens in df[\"cleaned_review\"]])\n",
        "\n"
      ],
      "metadata": {
        "id": "48J2GG4i6Duq"
      },
      "execution_count": 56,
      "outputs": []
    },
    {
      "cell_type": "code",
      "source": [
        "print(\"Training Data Shape:\", X_google_concat.shape)"
      ],
      "metadata": {
        "colab": {
          "base_uri": "https://localhost:8080/"
        },
        "id": "WWI1oOMlL86l",
        "outputId": "25babd20-d814-4e5a-bb01-f83def5b2de4"
      },
      "execution_count": 46,
      "outputs": [
        {
          "output_type": "stream",
          "name": "stdout",
          "text": [
            "Training Data Shape: (200000, 3000)\n"
          ]
        }
      ]
    },
    {
      "cell_type": "code",
      "source": [],
      "metadata": {
        "id": "UPM26uiRL84V"
      },
      "execution_count": 47,
      "outputs": []
    },
    {
      "cell_type": "code",
      "source": [
        "print(\"Ternary training Data Shape:\", X_google_concat_tern.shape)"
      ],
      "metadata": {
        "colab": {
          "base_uri": "https://localhost:8080/"
        },
        "id": "tdgk_Ml8L81x",
        "outputId": "2eef8842-133f-4cfe-bf2c-938c4a4e8ae5"
      },
      "execution_count": 48,
      "outputs": [
        {
          "output_type": "stream",
          "name": "stdout",
          "text": [
            "Ternary training Data Shape: (250000, 3000)\n"
          ]
        }
      ]
    },
    {
      "cell_type": "code",
      "source": [
        "X_google_concat = X_google_concat.astype(np.float32)\n",
        "X_custom_concat = X_custom_concat.astype(np.float32)\n",
        "\n"
      ],
      "metadata": {
        "id": "Mf0SSvV-YQ1B"
      },
      "execution_count": 58,
      "outputs": []
    },
    {
      "cell_type": "code",
      "source": [],
      "metadata": {
        "id": "DO73PaR2pwiJ"
      },
      "execution_count": null,
      "outputs": []
    },
    {
      "cell_type": "code",
      "source": [],
      "metadata": {
        "id": "r_oXpLhpprq7"
      },
      "execution_count": null,
      "outputs": []
    },
    {
      "cell_type": "code",
      "source": [
        "from sklearn.model_selection import train_test_split\n",
        "\n",
        "# Binary classification split (one at a time)\n",
        "X_train_google_concat_binary, X_test_google_concat_binary, y_train_google_concat_binary, y_test_google_concat_binary = train_test_split(\n",
        "    X_google_concat, df['sentiment'], test_size=0.2, random_state=42, stratify=df['sentiment'])\n",
        "\n",
        "#del X_google_concat  # Free memory\n",
        "\n",
        "X_train_custom_concat_binary, X_test_custom_concat_binary, y_train_custom_concat_binary, y_test_custom_concat_binary = train_test_split(\n",
        "    X_custom_concat, df['sentiment'], test_size=0.2, random_state=42, stratify=df['sentiment'])\n",
        "\n",
        "#del X_custom_concat  # Free memory\n",
        "\n",
        "\n",
        "\n"
      ],
      "metadata": {
        "id": "-XRD4sQWYUta"
      },
      "execution_count": 59,
      "outputs": []
    },
    {
      "cell_type": "code",
      "source": [
        "def train_model_concat(X_train, y_train, X_test, y_test, num_classes, epochs=160, lr=0.005):\n",
        "    # ✅ Convert Pandas Series to NumPy before torch.tensor()\n",
        "\n",
        "    if(num_classes==2):\n",
        "      y_train_binary = np.array(y_train.replace({1: 1, 2: 0}))\n",
        "      y_test_binary = np.array(y_test.replace({1: 1, 2: 0}))\n",
        "      X_train, y_train = torch.tensor(X_train, dtype=torch.float32), torch.tensor(y_train_binary, dtype=torch.long)\n",
        "      X_test, y_test = torch.tensor(X_test, dtype=torch.float32), torch.tensor(y_test_binary , dtype=torch.long)\n",
        "    elif(num_classes==3):\n",
        "      y_train_ternary = np.array(y_train_ter .replace({1: 0, 2: 1,3:2}))\n",
        "      y_test_ternary = np.array(y_test_ter.replace({1: 0, 2: 1,3:2}))\n",
        "      X_train, y_train = torch.tensor(X_train, dtype=torch.float32), torch.tensor(y_train_ternary, dtype=torch.long)\n",
        "      X_test, y_test = torch.tensor(X_test, dtype=torch.float32), torch.tensor(y_test_ternary , dtype=torch.long)\n",
        "    # Define the model\n",
        "    model = MLP(input_size=3000, num_classes=num_classes)\n",
        "    criterion = nn.CrossEntropyLoss()\n",
        "    optimizer = optim.Adam(model.parameters(), lr=lr)\n",
        "\n",
        "    # Training loop\n",
        "    for epoch in range(epochs):\n",
        "        optimizer.zero_grad()\n",
        "        outputs = model(X_train)\n",
        "        loss = criterion(outputs, y_train)\n",
        "        loss.backward()\n",
        "        optimizer.step()\n",
        "\n",
        "        if (epoch + 1) % 5 == 0:\n",
        "            print(f\"Epoch [{epoch+1}/{epochs}], Loss: {loss.item():.4f}\")\n",
        "\n",
        "    # Evaluation\n",
        "    # Evaluation on the training set\n",
        "    with torch.no_grad():\n",
        "        train_outputs = model(X_train)\n",
        "        _, train_predicted = torch.max(train_outputs, 1)\n",
        "        train_accuracy = accuracy_score(y_train.numpy(), train_predicted.numpy())\n",
        "\n",
        "        # Evaluation on the testing set\n",
        "        test_outputs = model(X_test)\n",
        "        _, test_predicted = torch.max(test_outputs, 1)\n",
        "        test_accuracy = accuracy_score(y_test.numpy(), test_predicted.numpy())\n",
        "\n",
        "    return train_accuracy, test_accuracy\n",
        "\n"
      ],
      "metadata": {
        "id": "SPBRaRbFoyzs"
      },
      "execution_count": 79,
      "outputs": []
    },
    {
      "cell_type": "code",
      "source": [
        "# Binary Classification (Concatenated Word2Vec)\n",
        "print(\"Binary Classification (Concatenated Word2Vec)\")\n",
        "\n",
        "# Google Word2Vec\n",
        "train_acc_google_concat, test_acc_google_concat = train_model_concat(\n",
        "    X_train_google_concat_binary, y_train_google_concat_binary,\n",
        "    X_test_google_concat_binary, y_test_google_concat_binary,\n",
        "    num_classes=2\n",
        ")\n",
        "print(f\"✅  Google W2V - Train Accuracy (Binary - Concat): {train_acc_google_concat:.4f}\")\n",
        "print(f\"✅  Google W2V - Test Accuracy (Binary - Concat): {test_acc_google_concat:.4f}\")\n",
        "\n",
        "# Custom Word2Vec\n",
        "train_acc_custom_concat, test_acc_custom_concat = train_model_concat(\n",
        "    X_train_custom_concat_binary, y_train_custom_concat_binary,\n",
        "    X_test_custom_concat_binary, y_test_custom_concat_binary,\n",
        "    num_classes=2\n",
        ")\n",
        "print(f\"✅ Custom W2V - Train Accuracy (Binary - Concat): {train_acc_custom_concat:.4f}\")\n",
        "print(f\"✅ Custom W2V - Test Accuracy (Binary - Concat): {test_acc_custom_concat:.4f}\")"
      ],
      "metadata": {
        "id": "8nU8fYDtyrwP"
      },
      "execution_count": null,
      "outputs": []
    },
    {
      "cell_type": "code",
      "source": [
        "#del X_google_concat\n",
        "#del X_custom_concat\n",
        "#Similarly for Ternary , get the 3000 input vector size:\n",
        "# Convert dataset to concatenated vectors\n",
        "X_google_concat_tern = np.array([concat_w2v_vectors(tokens, wv_google) for tokens in df_3classes[\"cleaned_review\"]])\n",
        "X_custom_concat_tern = np.array([concat_w2v_vectors(tokens, custom_w2v.wv) for tokens in df_3classes[\"cleaned_review\"]])\n",
        "X_google_concat_tern = X_google_concat_tern.astype(np.float32)\n",
        "X_custom_concat_tern = X_custom_concat_tern.astype(np.float32)"
      ],
      "metadata": {
        "id": "0L856BvEoyqA"
      },
      "execution_count": 76,
      "outputs": []
    },
    {
      "cell_type": "code",
      "source": [
        "# Ternary classification split\n",
        "\n",
        "X_train_google_concat_ternary, X_test_google_concat_ternary, y_train_google_concat_ternary, y_test_google_concat_ternary = train_test_split(\n",
        "    X_google_concat_tern, df_3classes['sentiment'], test_size=0.2, random_state=42, stratify=df_3classes['sentiment'])\n",
        "\n",
        "#del X_google_concat_tern  # Free memory\n",
        "X_train_custom_concat_ternary, X_test_custom_concat_ternary, y_train_custom_concat_ternary, y_test_custom_concat_ternary = train_test_split(\n",
        "    X_custom_concat_tern, df_3classes['sentiment'], test_size=0.2, random_state=42, stratify=df_3classes['sentiment'])\n",
        "\n",
        "#del X_custom_concat_tern  # Free memory\n"
      ],
      "metadata": {
        "id": "YbYYzAHEh-eD"
      },
      "execution_count": 77,
      "outputs": []
    },
    {
      "cell_type": "code",
      "source": [
        "# ternary Classification (Concatenated Word2Vec)\n",
        "print(\"Ternary Classification (Concatenated Word2Vec)\")\n",
        "\n",
        "# Google Word2Vec\n",
        "train_acc_google_concat_tern, test_acc_google_concat_tern = train_model_concat(\n",
        "    X_train_google_concat_ternary, y_train_google_concat_ternary,\n",
        "    X_test_google_concat_ternary, y_test_google_concat_ternary,\n",
        "    num_classes=3\n",
        ")\n",
        "print(f\"✅  Google W2V - Train Accuracy (Ternary - Concat): {train_acc_google_concat_tern:.4f}\")\n",
        "print(f\"✅  Google W2V - Test Accuracy (Ternary - Concat): {test_acc_google_concat_tern:.4f}\")\n",
        "\n",
        "# Custom Word2Vec\n",
        "train_acc_custom_concat_tern, test_acc_custom_concat_tern = train_model_concat(\n",
        "    X_train_custom_concat_ternary, y_train_custom_concat_ternary,\n",
        "    X_test_custom_concat_ternary, y_test_custom_concat_ternary,\n",
        "    num_classes=3\n",
        ")\n",
        "print(f\"✅ Custom W2V - Train Accuracy (Ternary - Concat): {train_acc_custom_concat_tern:.4f}\")\n",
        "print(f\"✅ Custom W2V - Test Accuracy (Ternary - Concat): {test_acc_custom_concat_tern:.4f}\")"
      ],
      "metadata": {
        "colab": {
          "base_uri": "https://localhost:8080/",
          "height": 233
        },
        "id": "pKM5Lt6In_kv",
        "outputId": "2aeaf56d-8e77-45b7-f405-89034e27b335"
      },
      "execution_count": 1,
      "outputs": [
        {
          "output_type": "stream",
          "name": "stdout",
          "text": [
            "Ternary Classification (Concatenated Word2Vec)\n"
          ]
        },
        {
          "output_type": "error",
          "ename": "NameError",
          "evalue": "name 'train_model_concat' is not defined",
          "traceback": [
            "\u001b[0;31m---------------------------------------------------------------------------\u001b[0m",
            "\u001b[0;31mNameError\u001b[0m                                 Traceback (most recent call last)",
            "\u001b[0;32m<ipython-input-1-58f7fd6158b6>\u001b[0m in \u001b[0;36m<cell line: 0>\u001b[0;34m()\u001b[0m\n\u001b[1;32m      3\u001b[0m \u001b[0;34m\u001b[0m\u001b[0m\n\u001b[1;32m      4\u001b[0m \u001b[0;31m# Google Word2Vec\u001b[0m\u001b[0;34m\u001b[0m\u001b[0;34m\u001b[0m\u001b[0m\n\u001b[0;32m----> 5\u001b[0;31m train_acc_google_concat_tern, test_acc_google_concat_tern = train_model_concat(\n\u001b[0m\u001b[1;32m      6\u001b[0m     \u001b[0mX_train_google_concat_ternary\u001b[0m\u001b[0;34m,\u001b[0m \u001b[0my_train_google_concat_ternary\u001b[0m\u001b[0;34m,\u001b[0m\u001b[0;34m\u001b[0m\u001b[0;34m\u001b[0m\u001b[0m\n\u001b[1;32m      7\u001b[0m     \u001b[0mX_test_google_concat_ternary\u001b[0m\u001b[0;34m,\u001b[0m \u001b[0my_test_google_concat_ternary\u001b[0m\u001b[0;34m,\u001b[0m\u001b[0;34m\u001b[0m\u001b[0;34m\u001b[0m\u001b[0m\n",
            "\u001b[0;31mNameError\u001b[0m: name 'train_model_concat' is not defined"
          ]
        }
      ]
    },
    {
      "cell_type": "code",
      "source": [],
      "metadata": {
        "id": "2G9pq_aJn_h7"
      },
      "execution_count": 77,
      "outputs": []
    },
    {
      "cell_type": "code",
      "source": [],
      "metadata": {
        "id": "IoPyAYMgn_fg"
      },
      "execution_count": null,
      "outputs": []
    },
    {
      "cell_type": "code",
      "source": [],
      "metadata": {
        "id": "0nAQXe5mn_dI"
      },
      "execution_count": null,
      "outputs": []
    },
    {
      "cell_type": "code",
      "source": [],
      "metadata": {
        "id": "2kbrzXdfn_YR"
      },
      "execution_count": null,
      "outputs": []
    },
    {
      "cell_type": "code",
      "source": [],
      "metadata": {
        "id": "8JFRU5mVn_VO"
      },
      "execution_count": null,
      "outputs": []
    },
    {
      "cell_type": "code",
      "source": [],
      "metadata": {
        "id": "xfNA32FDn_S3"
      },
      "execution_count": null,
      "outputs": []
    },
    {
      "cell_type": "code",
      "source": [],
      "metadata": {
        "id": "DuO-W-HKn_QS"
      },
      "execution_count": null,
      "outputs": []
    },
    {
      "cell_type": "code",
      "source": [
        "'''\n",
        "#Splitting binary into train and test : 80-20\n",
        "from sklearn.model_selection import train_test_split\n",
        "# Binary\n",
        "X_train_google_concat_binary, X_test_google_concat_binary, y_train_google_concat_binary, y_test_google_concat_binary = train_test_split(\n",
        "    X_google_concat, df['sentiment'], test_size=0.2, random_state=42, stratify=df['sentiment'])\n",
        "\n",
        "X_train_custom_concat_binary, X_test_custom_concat_binary, y_train_custom_concat_binary, y_test_custom_concat_binary = train_test_split(\n",
        "    X_custom_concat, df['sentiment'], test_size=0.2, random_state=42, stratify=df['sentiment'])\n",
        "\n",
        "#Ternary\n",
        "\n",
        "X_train_google_concat_ternary, X_test_google_concat_ternary, y_train_google_concat_ternary, y_test_google_concat_ternary = train_test_split(\n",
        "    X_google_concat_tern, df_3classes['sentiment'], test_size=0.2, random_state=42, stratify=df_3classes['sentiment'])\n",
        "\n",
        "X_train_custom_concat_ternary, X_test_custom_concat_ternary, y_train_custom_concat_ternary, y_test_custom_concat_ternary = train_test_split(\n",
        "    X_custom_concat_tern, df_3classes['sentiment'], test_size=0.2, random_state=42, stratify=df_3classes['sentiment'])\n",
        "'''"
      ],
      "metadata": {
        "colab": {
          "base_uri": "https://localhost:8080/",
          "height": 125
        },
        "id": "-DeatCdZL8zo",
        "outputId": "3df1b2fd-e69e-4761-86eb-38931a12562a"
      },
      "execution_count": 52,
      "outputs": [
        {
          "output_type": "execute_result",
          "data": {
            "text/plain": [
              "\"\\n#Splitting binary into train and test : 80-20\\nfrom sklearn.model_selection import train_test_split\\n# Binary\\nX_train_google_concat_binary, X_test_google_concat_binary, y_train_google_concat_binary, y_test_google_concat_binary = train_test_split(\\n    X_google_concat, df['sentiment'], test_size=0.2, random_state=42, stratify=df['sentiment'])\\n\\nX_train_custom_concat_binary, X_test_custom_concat_binary, y_train_custom_concat_binary, y_test_custom_concat_binary = train_test_split(\\n    X_custom_concat, df['sentiment'], test_size=0.2, random_state=42, stratify=df['sentiment'])\\n\\n#Ternary\\n\\nX_train_google_concat_ternary, X_test_google_concat_ternary, y_train_google_concat_ternary, y_test_google_concat_ternary = train_test_split(\\n    X_google_concat_tern, df_3classes['sentiment'], test_size=0.2, random_state=42, stratify=df_3classes['sentiment'])\\n\\nX_train_custom_concat_ternary, X_test_custom_concat_ternary, y_train_custom_concat_ternary, y_test_custom_concat_ternary = train_test_split(\\n    X_custom_concat_tern, df_3classes['sentiment'], test_size=0.2, random_state=42, stratify=df_3classes['sentiment'])\\n\""
            ],
            "application/vnd.google.colaboratory.intrinsic+json": {
              "type": "string"
            }
          },
          "metadata": {},
          "execution_count": 52
        }
      ]
    },
    {
      "cell_type": "code",
      "source": [],
      "metadata": {
        "id": "1eBNGUV2L8xO"
      },
      "execution_count": 52,
      "outputs": []
    },
    {
      "cell_type": "code",
      "source": [],
      "metadata": {
        "id": "Q8HBnzlML8ul"
      },
      "execution_count": 52,
      "outputs": []
    },
    {
      "cell_type": "code",
      "source": [
        "'''X_train_google, X_test_google, y_train, y_test = train_test_split(\n",
        "    list(df[\"embedding_google\"]), df[\"sentiment\"], test_size=0.2, random_state=42, stratify=df[\"sentiment\"]\n",
        ")\n",
        "\n",
        "X_train_custom, X_test_custom, _, _ = train_test_split(\n",
        "    list(df[\"embedding_custom\"]), df[\"sentiment\"], test_size=0.2, random_state=42, stratify=df[\"sentiment\"]\n",
        ")\n",
        "\n",
        "#For ternary :\n",
        "df_3classes[\"embedding_google\"] = df_3classes[\"cleaned_review\"].apply(lambda x: get_avg_embedding(x, wv_google))\n",
        "df_3classes[\"embedding_custom\"] = df_3classes[\"cleaned_review\"].apply(lambda x: get_avg_embedding(x, custom_w2v.wv))\n",
        "\n",
        "\n",
        "# Train-test split (80% training, 20% testing)\n",
        "X_train_google_ternary, X_test_google_ternary, y_train_ter, y_test_ter = train_test_split(\n",
        "    list(df_3classes[\"embedding_google\"]), df_3classes[\"sentiment\"], test_size=0.2, random_state=42, stratify=df_3classes[\"sentiment\"]\n",
        ")\n",
        "\n",
        "X_train_custom_ternary, X_test_custom_ternary, _, _ = train_test_split(\n",
        "    list(df_3classes[\"embedding_custom\"]), df_3classes[\"sentiment\"], test_size=0.2, random_state=42, stratify=df_3classes[\"sentiment\"]\n",
        ")'''"
      ],
      "metadata": {
        "colab": {
          "base_uri": "https://localhost:8080/",
          "height": 125
        },
        "id": "qDBByaZYG3ez",
        "outputId": "ff207181-c6cb-42e1-ac73-e137f30b6d08"
      },
      "execution_count": 53,
      "outputs": [
        {
          "output_type": "execute_result",
          "data": {
            "text/plain": [
              "'X_train_google, X_test_google, y_train, y_test = train_test_split(\\n    list(df[\"embedding_google\"]), df[\"sentiment\"], test_size=0.2, random_state=42, stratify=df[\"sentiment\"]\\n)\\n\\nX_train_custom, X_test_custom, _, _ = train_test_split(\\n    list(df[\"embedding_custom\"]), df[\"sentiment\"], test_size=0.2, random_state=42, stratify=df[\"sentiment\"]\\n)\\n\\n#For ternary :\\ndf_3classes[\"embedding_google\"] = df_3classes[\"cleaned_review\"].apply(lambda x: get_avg_embedding(x, wv_google))\\ndf_3classes[\"embedding_custom\"] = df_3classes[\"cleaned_review\"].apply(lambda x: get_avg_embedding(x, custom_w2v.wv))\\n\\n\\n# Train-test split (80% training, 20% testing)\\nX_train_google_ternary, X_test_google_ternary, y_train_ter, y_test_ter = train_test_split(\\n    list(df_3classes[\"embedding_google\"]), df_3classes[\"sentiment\"], test_size=0.2, random_state=42, stratify=df_3classes[\"sentiment\"]\\n)\\n\\nX_train_custom_ternary, X_test_custom_ternary, _, _ = train_test_split(\\n    list(df_3classes[\"embedding_custom\"]), df_3classes[\"sentiment\"], test_size=0.2, random_state=42, stratify=df_3classes[\"sentiment\"]\\n)'"
            ],
            "application/vnd.google.colaboratory.intrinsic+json": {
              "type": "string"
            }
          },
          "metadata": {},
          "execution_count": 53
        }
      ]
    },
    {
      "cell_type": "code",
      "source": [],
      "metadata": {
        "id": "jjeSVmHAG3cg"
      },
      "execution_count": 53,
      "outputs": []
    },
    {
      "cell_type": "code",
      "source": [],
      "metadata": {
        "id": "m6NwKRgwG3ak"
      },
      "execution_count": 53,
      "outputs": []
    },
    {
      "cell_type": "code",
      "source": [],
      "metadata": {
        "id": "KePDbZlkG3YE"
      },
      "execution_count": 53,
      "outputs": []
    }
  ],
  "metadata": {
    "accelerator": "TPU",
    "colab": {
      "gpuType": "V5E1",
      "provenance": [],
      "authorship_tag": "ABX9TyMQFYReecf9zYfDUoaNgb28",
      "include_colab_link": true
    },
    "kernelspec": {
      "display_name": "Python 3",
      "name": "python3"
    },
    "language_info": {
      "name": "python"
    }
  },
  "nbformat": 4,
  "nbformat_minor": 0
}